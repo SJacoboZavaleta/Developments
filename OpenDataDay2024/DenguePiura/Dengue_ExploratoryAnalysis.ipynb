{
 "cells": [
  {
   "cell_type": "markdown",
   "id": "76790d25-42e6-49de-b2ae-3aefcb2f551d",
   "metadata": {},
   "source": [
    "# Casos de Dengue en la Región Piura [Gobierno Regional Piura]"
   ]
  },
  {
   "cell_type": "code",
   "execution_count": 1,
   "id": "955b02ae-810b-4c01-95a4-8fad11008b1f",
   "metadata": {},
   "outputs": [
    {
     "name": "stdout",
     "output_type": "stream",
     "text": [
      "Requirement already satisfied: seaborn in /home/ueki/miniconda3/envs/ml-env/lib/python3.10/site-packages (0.13.2)\n",
      "Requirement already satisfied: numpy!=1.24.0,>=1.20 in /home/ueki/miniconda3/envs/ml-env/lib/python3.10/site-packages (from seaborn) (1.26.4)\n",
      "Requirement already satisfied: pandas>=1.2 in /home/ueki/miniconda3/envs/ml-env/lib/python3.10/site-packages (from seaborn) (2.2.1)\n",
      "Requirement already satisfied: matplotlib!=3.6.1,>=3.4 in /home/ueki/miniconda3/envs/ml-env/lib/python3.10/site-packages (from seaborn) (3.8.3)\n",
      "Requirement already satisfied: contourpy>=1.0.1 in /home/ueki/miniconda3/envs/ml-env/lib/python3.10/site-packages (from matplotlib!=3.6.1,>=3.4->seaborn) (1.2.0)\n",
      "Requirement already satisfied: cycler>=0.10 in /home/ueki/miniconda3/envs/ml-env/lib/python3.10/site-packages (from matplotlib!=3.6.1,>=3.4->seaborn) (0.12.1)\n",
      "Requirement already satisfied: fonttools>=4.22.0 in /home/ueki/miniconda3/envs/ml-env/lib/python3.10/site-packages (from matplotlib!=3.6.1,>=3.4->seaborn) (4.49.0)\n",
      "Requirement already satisfied: kiwisolver>=1.3.1 in /home/ueki/miniconda3/envs/ml-env/lib/python3.10/site-packages (from matplotlib!=3.6.1,>=3.4->seaborn) (1.4.5)\n",
      "Requirement already satisfied: packaging>=20.0 in /home/ueki/miniconda3/envs/ml-env/lib/python3.10/site-packages (from matplotlib!=3.6.1,>=3.4->seaborn) (23.2)\n",
      "Requirement already satisfied: pillow>=8 in /home/ueki/miniconda3/envs/ml-env/lib/python3.10/site-packages (from matplotlib!=3.6.1,>=3.4->seaborn) (10.2.0)\n",
      "Requirement already satisfied: pyparsing>=2.3.1 in /home/ueki/miniconda3/envs/ml-env/lib/python3.10/site-packages (from matplotlib!=3.6.1,>=3.4->seaborn) (3.1.1)\n",
      "Requirement already satisfied: python-dateutil>=2.7 in /home/ueki/miniconda3/envs/ml-env/lib/python3.10/site-packages (from matplotlib!=3.6.1,>=3.4->seaborn) (2.9.0)\n",
      "Requirement already satisfied: pytz>=2020.1 in /home/ueki/miniconda3/envs/ml-env/lib/python3.10/site-packages (from pandas>=1.2->seaborn) (2024.1)\n",
      "Requirement already satisfied: tzdata>=2022.7 in /home/ueki/miniconda3/envs/ml-env/lib/python3.10/site-packages (from pandas>=1.2->seaborn) (2024.1)\n",
      "Requirement already satisfied: six>=1.5 in /home/ueki/miniconda3/envs/ml-env/lib/python3.10/site-packages (from python-dateutil>=2.7->matplotlib!=3.6.1,>=3.4->seaborn) (1.16.0)\n",
      "Note: you may need to restart the kernel to use updated packages.\n"
     ]
    }
   ],
   "source": [
    "pip install seaborn"
   ]
  },
  {
   "cell_type": "code",
   "execution_count": 2,
   "id": "40e8e1c4-78ae-47f8-8855-90ae69ab2fac",
   "metadata": {},
   "outputs": [],
   "source": [
    "# Loading libraries\n",
    "import pandas as pd\n",
    "import numpy as np\n",
    "import matplotlib.pyplot as plt\n",
    "import seaborn as sns"
   ]
  },
  {
   "cell_type": "code",
   "execution_count": 3,
   "id": "97cc485b-252d-43af-bc90-23eb6dfde31b",
   "metadata": {},
   "outputs": [],
   "source": [
    "#from sklearn.preprocessing import StandardScaler\n",
    "#from sklearn.decomposition import PCA\n",
    "#from sklearn.cluster import KMeans\n",
    "#from sklearn.metrics import silhouette_score\n",
    "#import seaborn as sns"
   ]
  },
  {
   "cell_type": "markdown",
   "id": "4e56d8bc-7211-4bff-ab81-793bd51267fb",
   "metadata": {},
   "source": [
    "## Loading data"
   ]
  },
  {
   "cell_type": "code",
   "execution_count": 4,
   "id": "c2ff9a98-10f5-4f86-a126-66705ee1dc49",
   "metadata": {},
   "outputs": [],
   "source": [
    "data_path = \"DATA_SET_DENGUE.csv\"\n",
    "pd.set_option(\"display.max_columns\", None)"
   ]
  },
  {
   "cell_type": "code",
   "execution_count": 5,
   "id": "c065d89e-dba5-4ec4-a9ed-2cacfb0a198a",
   "metadata": {},
   "outputs": [
    {
     "data": {
      "text/html": [
       "<div>\n",
       "<style scoped>\n",
       "    .dataframe tbody tr th:only-of-type {\n",
       "        vertical-align: middle;\n",
       "    }\n",
       "\n",
       "    .dataframe tbody tr th {\n",
       "        vertical-align: top;\n",
       "    }\n",
       "\n",
       "    .dataframe thead th {\n",
       "        text-align: right;\n",
       "    }\n",
       "</style>\n",
       "<table border=\"1\" class=\"dataframe\">\n",
       "  <thead>\n",
       "    <tr style=\"text-align: right;\">\n",
       "      <th></th>\n",
       "      <th>FECHA_CORTE</th>\n",
       "      <th>FECHA_INGRESO</th>\n",
       "      <th>ANIO</th>\n",
       "      <th>DEPARTAMENTO</th>\n",
       "      <th>PROVINCIA</th>\n",
       "      <th>DISTRITO</th>\n",
       "      <th>UBIGEO</th>\n",
       "      <th>LOCALIDAD</th>\n",
       "      <th>CENTRO_SALUD</th>\n",
       "      <th>UUID</th>\n",
       "      <th>EDAD</th>\n",
       "      <th>TIPO_EDAD</th>\n",
       "      <th>SEXO</th>\n",
       "      <th>FECHA_INICIO_SINTOMAS</th>\n",
       "      <th>FECHA_NOTIFICACION</th>\n",
       "      <th>SEMANA_NOTIFICACION</th>\n",
       "    </tr>\n",
       "  </thead>\n",
       "  <tbody>\n",
       "    <tr>\n",
       "      <th>0</th>\n",
       "      <td>20230517</td>\n",
       "      <td>20230502</td>\n",
       "      <td>2023</td>\n",
       "      <td>PIURA</td>\n",
       "      <td>SULLANA</td>\n",
       "      <td>SULLANA</td>\n",
       "      <td>200601</td>\n",
       "      <td>NaN</td>\n",
       "      <td>ALBERTO LEOPOLDO BARTON THOMPSON</td>\n",
       "      <td>047CA87878645E12654481B85023BB3A</td>\n",
       "      <td>52</td>\n",
       "      <td>A</td>\n",
       "      <td>MASCULINO</td>\n",
       "      <td>20230506</td>\n",
       "      <td>20230508</td>\n",
       "      <td>18</td>\n",
       "    </tr>\n",
       "    <tr>\n",
       "      <th>1</th>\n",
       "      <td>20230517</td>\n",
       "      <td>20230411</td>\n",
       "      <td>2023</td>\n",
       "      <td>PIURA</td>\n",
       "      <td>MORROPON</td>\n",
       "      <td>BUENOS AIRES</td>\n",
       "      <td>200402</td>\n",
       "      <td>CARRASQUILLO</td>\n",
       "      <td>ALBERTO SABOGAL SOLOGUREN</td>\n",
       "      <td>109FBA591715212BF28C89E93B7D8BAD</td>\n",
       "      <td>40</td>\n",
       "      <td>A</td>\n",
       "      <td>FEMENINO</td>\n",
       "      <td>20230417</td>\n",
       "      <td>20230419</td>\n",
       "      <td>16</td>\n",
       "    </tr>\n",
       "    <tr>\n",
       "      <th>2</th>\n",
       "      <td>20230517</td>\n",
       "      <td>20230510</td>\n",
       "      <td>2023</td>\n",
       "      <td>PIURA</td>\n",
       "      <td>PIURA</td>\n",
       "      <td>CASTILLA</td>\n",
       "      <td>200104</td>\n",
       "      <td>CASTILLA</td>\n",
       "      <td>ALTO TRUJILLO</td>\n",
       "      <td>0FCF2EFFA0DB53DC895E8989976D54E5</td>\n",
       "      <td>35</td>\n",
       "      <td>A</td>\n",
       "      <td>MASCULINO</td>\n",
       "      <td>20230513</td>\n",
       "      <td>20230516</td>\n",
       "      <td>19</td>\n",
       "    </tr>\n",
       "    <tr>\n",
       "      <th>3</th>\n",
       "      <td>20230517</td>\n",
       "      <td>20230504</td>\n",
       "      <td>2023</td>\n",
       "      <td>PIURA</td>\n",
       "      <td>SULLANA</td>\n",
       "      <td>SULLANA</td>\n",
       "      <td>200601</td>\n",
       "      <td>SULLANA</td>\n",
       "      <td>AUNA CLINICA MIRAFLORES</td>\n",
       "      <td>8114E78893CC0796F01D76D63303E4CD</td>\n",
       "      <td>44</td>\n",
       "      <td>A</td>\n",
       "      <td>MASCULINO</td>\n",
       "      <td>20230515</td>\n",
       "      <td>20230515</td>\n",
       "      <td>20</td>\n",
       "    </tr>\n",
       "    <tr>\n",
       "      <th>4</th>\n",
       "      <td>20230517</td>\n",
       "      <td>20230504</td>\n",
       "      <td>2023</td>\n",
       "      <td>PIURA</td>\n",
       "      <td>PIURA</td>\n",
       "      <td>CASTILLA</td>\n",
       "      <td>200104</td>\n",
       "      <td>A.H. LA PRIMAVERA I</td>\n",
       "      <td>AUNA CLINICA MIRAFLORES</td>\n",
       "      <td>8CB9BA64C2495384E8AB04496801E4C1</td>\n",
       "      <td>7</td>\n",
       "      <td>A</td>\n",
       "      <td>MASCULINO</td>\n",
       "      <td>20230515</td>\n",
       "      <td>20230515</td>\n",
       "      <td>20</td>\n",
       "    </tr>\n",
       "  </tbody>\n",
       "</table>\n",
       "</div>"
      ],
      "text/plain": [
       "   FECHA_CORTE  FECHA_INGRESO  ANIO DEPARTAMENTO PROVINCIA      DISTRITO  \\\n",
       "0     20230517       20230502  2023        PIURA   SULLANA       SULLANA   \n",
       "1     20230517       20230411  2023        PIURA  MORROPON  BUENOS AIRES   \n",
       "2     20230517       20230510  2023        PIURA     PIURA      CASTILLA   \n",
       "3     20230517       20230504  2023        PIURA   SULLANA       SULLANA   \n",
       "4     20230517       20230504  2023        PIURA     PIURA      CASTILLA   \n",
       "\n",
       "   UBIGEO            LOCALIDAD                      CENTRO_SALUD  \\\n",
       "0  200601                  NaN  ALBERTO LEOPOLDO BARTON THOMPSON   \n",
       "1  200402         CARRASQUILLO         ALBERTO SABOGAL SOLOGUREN   \n",
       "2  200104             CASTILLA                     ALTO TRUJILLO   \n",
       "3  200601              SULLANA           AUNA CLINICA MIRAFLORES   \n",
       "4  200104  A.H. LA PRIMAVERA I           AUNA CLINICA MIRAFLORES   \n",
       "\n",
       "                               UUID  EDAD TIPO_EDAD       SEXO  \\\n",
       "0  047CA87878645E12654481B85023BB3A    52         A  MASCULINO   \n",
       "1  109FBA591715212BF28C89E93B7D8BAD    40         A   FEMENINO   \n",
       "2  0FCF2EFFA0DB53DC895E8989976D54E5    35         A  MASCULINO   \n",
       "3  8114E78893CC0796F01D76D63303E4CD    44         A  MASCULINO   \n",
       "4  8CB9BA64C2495384E8AB04496801E4C1     7         A  MASCULINO   \n",
       "\n",
       "   FECHA_INICIO_SINTOMAS  FECHA_NOTIFICACION  SEMANA_NOTIFICACION  \n",
       "0               20230506            20230508                   18  \n",
       "1               20230417            20230419                   16  \n",
       "2               20230513            20230516                   19  \n",
       "3               20230515            20230515                   20  \n",
       "4               20230515            20230515                   20  "
      ]
     },
     "execution_count": 5,
     "metadata": {},
     "output_type": "execute_result"
    }
   ],
   "source": [
    "data = pd.read_csv(data_path,encoding = '\"utf-8\"', sep = \",\")\n",
    "#data_2023 = data_2023.rename(columns ={'ï»¿DOCUMENTO_ANONIMIZADO':'DOCUMENTO_ANONIMIZADO'})\n",
    "data.head()"
   ]
  },
  {
   "cell_type": "code",
   "execution_count": 6,
   "id": "a8249ce2-33df-42a9-ab78-ae27c6ebc568",
   "metadata": {},
   "outputs": [
    {
     "data": {
      "text/plain": [
       "(24566, 16)"
      ]
     },
     "execution_count": 6,
     "metadata": {},
     "output_type": "execute_result"
    }
   ],
   "source": [
    "data.shape"
   ]
  },
  {
   "cell_type": "code",
   "execution_count": 7,
   "id": "11a992d9-bef8-481d-a434-e97fc27be084",
   "metadata": {},
   "outputs": [
    {
     "data": {
      "text/plain": [
       "Index(['FECHA_CORTE', 'FECHA_INGRESO', 'ANIO', 'DEPARTAMENTO', 'PROVINCIA',\n",
       "       'DISTRITO', 'UBIGEO', 'LOCALIDAD', 'CENTRO_SALUD', 'UUID', 'EDAD',\n",
       "       'TIPO_EDAD', 'SEXO', 'FECHA_INICIO_SINTOMAS', 'FECHA_NOTIFICACION',\n",
       "       'SEMANA_NOTIFICACION'],\n",
       "      dtype='object')"
      ]
     },
     "execution_count": 7,
     "metadata": {},
     "output_type": "execute_result"
    }
   ],
   "source": [
    "data.columns"
   ]
  },
  {
   "cell_type": "markdown",
   "id": "e25ff7b3-06e6-4b63-925a-767a81f2716b",
   "metadata": {},
   "source": [
    "## Preprocessing"
   ]
  },
  {
   "cell_type": "code",
   "execution_count": 8,
   "id": "9f2ce47a-40c7-4866-a24e-e405e0ca4705",
   "metadata": {},
   "outputs": [
    {
     "name": "stdout",
     "output_type": "stream",
     "text": [
      "<class 'pandas.core.frame.DataFrame'>\n",
      "RangeIndex: 24566 entries, 0 to 24565\n",
      "Data columns (total 16 columns):\n",
      " #   Column                 Non-Null Count  Dtype \n",
      "---  ------                 --------------  ----- \n",
      " 0   FECHA_CORTE            24566 non-null  int64 \n",
      " 1   FECHA_INGRESO          24566 non-null  int64 \n",
      " 2   ANIO                   24566 non-null  int64 \n",
      " 3   DEPARTAMENTO           24566 non-null  object\n",
      " 4   PROVINCIA              24566 non-null  object\n",
      " 5   DISTRITO               24566 non-null  object\n",
      " 6   UBIGEO                 24566 non-null  int64 \n",
      " 7   LOCALIDAD              23918 non-null  object\n",
      " 8   CENTRO_SALUD           24566 non-null  object\n",
      " 9   UUID                   24566 non-null  object\n",
      " 10  EDAD                   24566 non-null  int64 \n",
      " 11  TIPO_EDAD              24566 non-null  object\n",
      " 12  SEXO                   24566 non-null  object\n",
      " 13  FECHA_INICIO_SINTOMAS  24566 non-null  int64 \n",
      " 14  FECHA_NOTIFICACION     24566 non-null  int64 \n",
      " 15  SEMANA_NOTIFICACION    24566 non-null  int64 \n",
      "dtypes: int64(8), object(8)\n",
      "memory usage: 3.0+ MB\n"
     ]
    }
   ],
   "source": [
    "data.info()"
   ]
  },
  {
   "cell_type": "markdown",
   "id": "6f1b1f43-60d8-4d72-b702-f085c115df9d",
   "metadata": {},
   "source": [
    "### Checking null values"
   ]
  },
  {
   "cell_type": "code",
   "execution_count": 9,
   "id": "7ae6d547-57e7-4911-98eb-a1b3dd9b10cb",
   "metadata": {},
   "outputs": [
    {
     "data": {
      "text/plain": [
       "LOCALIDAD                648\n",
       "FECHA_CORTE                0\n",
       "FECHA_INGRESO              0\n",
       "ANIO                       0\n",
       "DEPARTAMENTO               0\n",
       "PROVINCIA                  0\n",
       "DISTRITO                   0\n",
       "UBIGEO                     0\n",
       "CENTRO_SALUD               0\n",
       "UUID                       0\n",
       "EDAD                       0\n",
       "TIPO_EDAD                  0\n",
       "SEXO                       0\n",
       "FECHA_INICIO_SINTOMAS      0\n",
       "FECHA_NOTIFICACION         0\n",
       "SEMANA_NOTIFICACION        0\n",
       "dtype: int64"
      ]
     },
     "execution_count": 9,
     "metadata": {},
     "output_type": "execute_result"
    }
   ],
   "source": [
    "data_isna=data.isna().sum().sort_values(ascending=False)\n",
    "data_isna"
   ]
  },
  {
   "cell_type": "code",
   "execution_count": 10,
   "id": "43ad025c-d281-40b4-8076-fca075e6fbeb",
   "metadata": {},
   "outputs": [
    {
     "name": "stdout",
     "output_type": "stream",
     "text": [
      "LOCALIDAD    2.637792\n",
      "dtype: float64\n"
     ]
    }
   ],
   "source": [
    "data_isna_perc=(data_isna[data_isna>0]*100)/len(data)\n",
    "print(data_isna_perc)"
   ]
  },
  {
   "cell_type": "code",
   "execution_count": 11,
   "id": "cc0cfe7a-a4f4-457a-9152-266235a4c25a",
   "metadata": {},
   "outputs": [
    {
     "data": {
      "image/png": "[encoded data removed]",
      "text/plain": [
       "<Figure size 640x480 with 1 Axes>"
      ]
     },
     "metadata": {},
     "output_type": "display_data"
    }
   ],
   "source": [
    "#plt.xticks(rotation=\"vertical\")\n",
    "ax=sns.barplot(x=data_isna_perc.index, y=data_isna_perc)\n",
    "ax.bar_label(ax.containers[0])\n",
    "ax.set_xlabel(\"\")\n",
    "ax.set_ylabel(\"Null values %\")\n",
    "plt.show()"
   ]
  },
  {
   "cell_type": "code",
   "execution_count": 12,
   "id": "ee15074f-1823-41b7-b076-694233a7e0d3",
   "metadata": {},
   "outputs": [
    {
     "data": {
      "text/html": [
       "<div>\n",
       "<style scoped>\n",
       "    .dataframe tbody tr th:only-of-type {\n",
       "        vertical-align: middle;\n",
       "    }\n",
       "\n",
       "    .dataframe tbody tr th {\n",
       "        vertical-align: top;\n",
       "    }\n",
       "\n",
       "    .dataframe thead th {\n",
       "        text-align: right;\n",
       "    }\n",
       "</style>\n",
       "<table border=\"1\" class=\"dataframe\">\n",
       "  <thead>\n",
       "    <tr style=\"text-align: right;\">\n",
       "      <th></th>\n",
       "      <th>FECHA_CORTE</th>\n",
       "      <th>FECHA_INGRESO</th>\n",
       "      <th>ANIO</th>\n",
       "      <th>DEPARTAMENTO</th>\n",
       "      <th>PROVINCIA</th>\n",
       "      <th>DISTRITO</th>\n",
       "      <th>UBIGEO</th>\n",
       "      <th>LOCALIDAD</th>\n",
       "      <th>CENTRO_SALUD</th>\n",
       "      <th>UUID</th>\n",
       "      <th>EDAD</th>\n",
       "      <th>TIPO_EDAD</th>\n",
       "      <th>SEXO</th>\n",
       "      <th>FECHA_INICIO_SINTOMAS</th>\n",
       "      <th>FECHA_NOTIFICACION</th>\n",
       "      <th>SEMANA_NOTIFICACION</th>\n",
       "    </tr>\n",
       "  </thead>\n",
       "  <tbody>\n",
       "    <tr>\n",
       "      <th>0</th>\n",
       "      <td>False</td>\n",
       "      <td>False</td>\n",
       "      <td>False</td>\n",
       "      <td>False</td>\n",
       "      <td>False</td>\n",
       "      <td>False</td>\n",
       "      <td>False</td>\n",
       "      <td>True</td>\n",
       "      <td>False</td>\n",
       "      <td>False</td>\n",
       "      <td>False</td>\n",
       "      <td>False</td>\n",
       "      <td>False</td>\n",
       "      <td>False</td>\n",
       "      <td>False</td>\n",
       "      <td>False</td>\n",
       "    </tr>\n",
       "    <tr>\n",
       "      <th>1</th>\n",
       "      <td>False</td>\n",
       "      <td>False</td>\n",
       "      <td>False</td>\n",
       "      <td>False</td>\n",
       "      <td>False</td>\n",
       "      <td>False</td>\n",
       "      <td>False</td>\n",
       "      <td>False</td>\n",
       "      <td>False</td>\n",
       "      <td>False</td>\n",
       "      <td>False</td>\n",
       "      <td>False</td>\n",
       "      <td>False</td>\n",
       "      <td>False</td>\n",
       "      <td>False</td>\n",
       "      <td>False</td>\n",
       "    </tr>\n",
       "    <tr>\n",
       "      <th>2</th>\n",
       "      <td>False</td>\n",
       "      <td>False</td>\n",
       "      <td>False</td>\n",
       "      <td>False</td>\n",
       "      <td>False</td>\n",
       "      <td>False</td>\n",
       "      <td>False</td>\n",
       "      <td>False</td>\n",
       "      <td>False</td>\n",
       "      <td>False</td>\n",
       "      <td>False</td>\n",
       "      <td>False</td>\n",
       "      <td>False</td>\n",
       "      <td>False</td>\n",
       "      <td>False</td>\n",
       "      <td>False</td>\n",
       "    </tr>\n",
       "    <tr>\n",
       "      <th>3</th>\n",
       "      <td>False</td>\n",
       "      <td>False</td>\n",
       "      <td>False</td>\n",
       "      <td>False</td>\n",
       "      <td>False</td>\n",
       "      <td>False</td>\n",
       "      <td>False</td>\n",
       "      <td>False</td>\n",
       "      <td>False</td>\n",
       "      <td>False</td>\n",
       "      <td>False</td>\n",
       "      <td>False</td>\n",
       "      <td>False</td>\n",
       "      <td>False</td>\n",
       "      <td>False</td>\n",
       "      <td>False</td>\n",
       "    </tr>\n",
       "    <tr>\n",
       "      <th>4</th>\n",
       "      <td>False</td>\n",
       "      <td>False</td>\n",
       "      <td>False</td>\n",
       "      <td>False</td>\n",
       "      <td>False</td>\n",
       "      <td>False</td>\n",
       "      <td>False</td>\n",
       "      <td>False</td>\n",
       "      <td>False</td>\n",
       "      <td>False</td>\n",
       "      <td>False</td>\n",
       "      <td>False</td>\n",
       "      <td>False</td>\n",
       "      <td>False</td>\n",
       "      <td>False</td>\n",
       "      <td>False</td>\n",
       "    </tr>\n",
       "    <tr>\n",
       "      <th>...</th>\n",
       "      <td>...</td>\n",
       "      <td>...</td>\n",
       "      <td>...</td>\n",
       "      <td>...</td>\n",
       "      <td>...</td>\n",
       "      <td>...</td>\n",
       "      <td>...</td>\n",
       "      <td>...</td>\n",
       "      <td>...</td>\n",
       "      <td>...</td>\n",
       "      <td>...</td>\n",
       "      <td>...</td>\n",
       "      <td>...</td>\n",
       "      <td>...</td>\n",
       "      <td>...</td>\n",
       "      <td>...</td>\n",
       "    </tr>\n",
       "    <tr>\n",
       "      <th>24561</th>\n",
       "      <td>False</td>\n",
       "      <td>False</td>\n",
       "      <td>False</td>\n",
       "      <td>False</td>\n",
       "      <td>False</td>\n",
       "      <td>False</td>\n",
       "      <td>False</td>\n",
       "      <td>False</td>\n",
       "      <td>False</td>\n",
       "      <td>False</td>\n",
       "      <td>False</td>\n",
       "      <td>False</td>\n",
       "      <td>False</td>\n",
       "      <td>False</td>\n",
       "      <td>False</td>\n",
       "      <td>False</td>\n",
       "    </tr>\n",
       "    <tr>\n",
       "      <th>24562</th>\n",
       "      <td>False</td>\n",
       "      <td>False</td>\n",
       "      <td>False</td>\n",
       "      <td>False</td>\n",
       "      <td>False</td>\n",
       "      <td>False</td>\n",
       "      <td>False</td>\n",
       "      <td>False</td>\n",
       "      <td>False</td>\n",
       "      <td>False</td>\n",
       "      <td>False</td>\n",
       "      <td>False</td>\n",
       "      <td>False</td>\n",
       "      <td>False</td>\n",
       "      <td>False</td>\n",
       "      <td>False</td>\n",
       "    </tr>\n",
       "    <tr>\n",
       "      <th>24563</th>\n",
       "      <td>False</td>\n",
       "      <td>False</td>\n",
       "      <td>False</td>\n",
       "      <td>False</td>\n",
       "      <td>False</td>\n",
       "      <td>False</td>\n",
       "      <td>False</td>\n",
       "      <td>False</td>\n",
       "      <td>False</td>\n",
       "      <td>False</td>\n",
       "      <td>False</td>\n",
       "      <td>False</td>\n",
       "      <td>False</td>\n",
       "      <td>False</td>\n",
       "      <td>False</td>\n",
       "      <td>False</td>\n",
       "    </tr>\n",
       "    <tr>\n",
       "      <th>24564</th>\n",
       "      <td>False</td>\n",
       "      <td>False</td>\n",
       "      <td>False</td>\n",
       "      <td>False</td>\n",
       "      <td>False</td>\n",
       "      <td>False</td>\n",
       "      <td>False</td>\n",
       "      <td>True</td>\n",
       "      <td>False</td>\n",
       "      <td>False</td>\n",
       "      <td>False</td>\n",
       "      <td>False</td>\n",
       "      <td>False</td>\n",
       "      <td>False</td>\n",
       "      <td>False</td>\n",
       "      <td>False</td>\n",
       "    </tr>\n",
       "    <tr>\n",
       "      <th>24565</th>\n",
       "      <td>False</td>\n",
       "      <td>False</td>\n",
       "      <td>False</td>\n",
       "      <td>False</td>\n",
       "      <td>False</td>\n",
       "      <td>False</td>\n",
       "      <td>False</td>\n",
       "      <td>True</td>\n",
       "      <td>False</td>\n",
       "      <td>False</td>\n",
       "      <td>False</td>\n",
       "      <td>False</td>\n",
       "      <td>False</td>\n",
       "      <td>False</td>\n",
       "      <td>False</td>\n",
       "      <td>False</td>\n",
       "    </tr>\n",
       "  </tbody>\n",
       "</table>\n",
       "<p>24566 rows × 16 columns</p>\n",
       "</div>"
      ],
      "text/plain": [
       "       FECHA_CORTE  FECHA_INGRESO   ANIO  DEPARTAMENTO  PROVINCIA  DISTRITO  \\\n",
       "0            False          False  False         False      False     False   \n",
       "1            False          False  False         False      False     False   \n",
       "2            False          False  False         False      False     False   \n",
       "3            False          False  False         False      False     False   \n",
       "4            False          False  False         False      False     False   \n",
       "...            ...            ...    ...           ...        ...       ...   \n",
       "24561        False          False  False         False      False     False   \n",
       "24562        False          False  False         False      False     False   \n",
       "24563        False          False  False         False      False     False   \n",
       "24564        False          False  False         False      False     False   \n",
       "24565        False          False  False         False      False     False   \n",
       "\n",
       "       UBIGEO  LOCALIDAD  CENTRO_SALUD   UUID   EDAD  TIPO_EDAD   SEXO  \\\n",
       "0       False       True         False  False  False      False  False   \n",
       "1       False      False         False  False  False      False  False   \n",
       "2       False      False         False  False  False      False  False   \n",
       "3       False      False         False  False  False      False  False   \n",
       "4       False      False         False  False  False      False  False   \n",
       "...       ...        ...           ...    ...    ...        ...    ...   \n",
       "24561   False      False         False  False  False      False  False   \n",
       "24562   False      False         False  False  False      False  False   \n",
       "24563   False      False         False  False  False      False  False   \n",
       "24564   False       True         False  False  False      False  False   \n",
       "24565   False       True         False  False  False      False  False   \n",
       "\n",
       "       FECHA_INICIO_SINTOMAS  FECHA_NOTIFICACION  SEMANA_NOTIFICACION  \n",
       "0                      False               False                False  \n",
       "1                      False               False                False  \n",
       "2                      False               False                False  \n",
       "3                      False               False                False  \n",
       "4                      False               False                False  \n",
       "...                      ...                 ...                  ...  \n",
       "24561                  False               False                False  \n",
       "24562                  False               False                False  \n",
       "24563                  False               False                False  \n",
       "24564                  False               False                False  \n",
       "24565                  False               False                False  \n",
       "\n",
       "[24566 rows x 16 columns]"
      ]
     },
     "execution_count": 12,
     "metadata": {},
     "output_type": "execute_result"
    }
   ],
   "source": [
    "data.isna()"
   ]
  },
  {
   "cell_type": "code",
   "execution_count": 13,
   "id": "3e24618d-a395-43bd-9605-2dded4cdb39f",
   "metadata": {},
   "outputs": [],
   "source": [
    "# Imputar con 0 las localidades nulas\n",
    "#data[\"LOCALIDAD\"] = data[\"LOCALIDAD\"].fillna(0, inplace=True)"
   ]
  },
  {
   "cell_type": "code",
   "execution_count": 14,
   "id": "283db1ea-0668-4b78-95b6-afb2d5e8e083",
   "metadata": {},
   "outputs": [
    {
     "data": {
      "text/plain": [
       "LOCALIDAD                648\n",
       "FECHA_CORTE                0\n",
       "FECHA_INGRESO              0\n",
       "ANIO                       0\n",
       "DEPARTAMENTO               0\n",
       "PROVINCIA                  0\n",
       "DISTRITO                   0\n",
       "UBIGEO                     0\n",
       "CENTRO_SALUD               0\n",
       "UUID                       0\n",
       "EDAD                       0\n",
       "TIPO_EDAD                  0\n",
       "SEXO                       0\n",
       "FECHA_INICIO_SINTOMAS      0\n",
       "FECHA_NOTIFICACION         0\n",
       "SEMANA_NOTIFICACION        0\n",
       "dtype: int64"
      ]
     },
     "execution_count": 14,
     "metadata": {},
     "output_type": "execute_result"
    }
   ],
   "source": [
    "data_isna=data.isna().sum().sort_values(ascending=False)\n",
    "data_isna"
   ]
  },
  {
   "cell_type": "code",
   "execution_count": 15,
   "id": "81911005-4501-4020-b076-b9567e851ba5",
   "metadata": {},
   "outputs": [
    {
     "data": {
      "text/plain": [
       "CENTRO_SALUD                                       \n",
       "HOSPITAL DE LA AMISTAD PERU - COREA SANTA ROSA II-2    197\n",
       "POSTA MEDICA DE CHULUCANAS                             100\n",
       "E.S I-4 CONSUELO DE VELASCO                             80\n",
       "E.S I-3 VICTOR RAUL HAYA DE LA TORRE                    31\n",
       "E.S I-2 MONTE CASTILLO                                  30\n",
       "                                                      ... \n",
       "E.S I-1 PUERTO RICO                                      1\n",
       "E.S I-2 CURUMUY LAGRIMAS - UDEP                          1\n",
       "E.S I-2 NUEVO TALLAN                                     1\n",
       "E.S I-3 SAN JOSE                                         1\n",
       "SANTA MARIA                                              1\n",
       "Name: count, Length: 86, dtype: int64"
      ]
     },
     "execution_count": 15,
     "metadata": {},
     "output_type": "execute_result"
    }
   ],
   "source": [
    "data[data[\"LOCALIDAD\"].isna()][[\"CENTRO_SALUD\"]].value_counts()"
   ]
  },
  {
   "cell_type": "code",
   "execution_count": 16,
   "id": "f74ce965-392e-4c02-aebd-8b33f7d8701f",
   "metadata": {},
   "outputs": [
    {
     "data": {
      "text/plain": [
       "CENTRO_SALUD                                         UBIGEO\n",
       "POSTA MEDICA DE CHULUCANAS                           200401    97\n",
       "HOSPITAL DE LA AMISTAD PERU - COREA SANTA ROSA II-2  200101    89\n",
       "E.S I-4 CONSUELO DE VELASCO                          200115    64\n",
       "HOSPITAL DE LA AMISTAD PERU - COREA SANTA ROSA II-2  200104    33\n",
       "                                                     200115    30\n",
       "                                                               ..\n",
       "E.S I-3 SAN JOSE                                     200115     1\n",
       "E.S I-3 MICAELA BASTIDAS                             200101     1\n",
       "E.S I-3 LA ARENA                                     200801     1\n",
       "                                                     200115     1\n",
       "SANTA MARIA                                          200401     1\n",
       "Name: count, Length: 160, dtype: int64"
      ]
     },
     "execution_count": 16,
     "metadata": {},
     "output_type": "execute_result"
    }
   ],
   "source": [
    "data[data[\"LOCALIDAD\"].isna()][[\"CENTRO_SALUD\",\"UBIGEO\"]].value_counts()\n",
    "# El mismo hopital tiene mas de un ubigeo"
   ]
  },
  {
   "cell_type": "code",
   "execution_count": 17,
   "id": "d2b9e64d-72c0-4192-aa32-dbcc705ad387",
   "metadata": {},
   "outputs": [
    {
     "data": {
      "text/plain": [
       "LOCALIDAD        UBIGEO\n",
       "CHULUCANAS       200401    1554\n",
       "PIURA            200101     951\n",
       "SULLANA          200601     613\n",
       "CASTILLA         200104     584\n",
       "EL OBRERO        200601     503\n",
       "                           ... \n",
       "LOS ORGANOS      200705       1\n",
       "LOS CORRALES     200306       1\n",
       "LOS CHUICAS      200114       1\n",
       "LOMA LARGA BAJA  200306       1\n",
       "ZORRITOS         240201       1\n",
       "Name: count, Length: 998, dtype: int64"
      ]
     },
     "execution_count": 17,
     "metadata": {},
     "output_type": "execute_result"
    }
   ],
   "source": [
    "data[~data[\"LOCALIDAD\"].isna()][[\"LOCALIDAD\",\"UBIGEO\"]].value_counts()"
   ]
  },
  {
   "cell_type": "code",
   "execution_count": 18,
   "id": "640c9370-b074-4afd-b9f2-8cc4f8f211c2",
   "metadata": {},
   "outputs": [
    {
     "data": {
      "text/html": [
       "<div>\n",
       "<style scoped>\n",
       "    .dataframe tbody tr th:only-of-type {\n",
       "        vertical-align: middle;\n",
       "    }\n",
       "\n",
       "    .dataframe tbody tr th {\n",
       "        vertical-align: top;\n",
       "    }\n",
       "\n",
       "    .dataframe thead th {\n",
       "        text-align: right;\n",
       "    }\n",
       "</style>\n",
       "<table border=\"1\" class=\"dataframe\">\n",
       "  <thead>\n",
       "    <tr style=\"text-align: right;\">\n",
       "      <th></th>\n",
       "      <th>LOCALIDAD</th>\n",
       "      <th>UBIGEO</th>\n",
       "    </tr>\n",
       "  </thead>\n",
       "  <tbody>\n",
       "    <tr>\n",
       "      <th>1</th>\n",
       "      <td>CARRASQUILLO</td>\n",
       "      <td>200402</td>\n",
       "    </tr>\n",
       "    <tr>\n",
       "      <th>2</th>\n",
       "      <td>CASTILLA</td>\n",
       "      <td>200104</td>\n",
       "    </tr>\n",
       "    <tr>\n",
       "      <th>3</th>\n",
       "      <td>SULLANA</td>\n",
       "      <td>200601</td>\n",
       "    </tr>\n",
       "    <tr>\n",
       "      <th>4</th>\n",
       "      <td>A.H. LA PRIMAVERA I</td>\n",
       "      <td>200104</td>\n",
       "    </tr>\n",
       "    <tr>\n",
       "      <th>5</th>\n",
       "      <td>URB. PIURA</td>\n",
       "      <td>200101</td>\n",
       "    </tr>\n",
       "    <tr>\n",
       "      <th>...</th>\n",
       "      <td>...</td>\n",
       "      <td>...</td>\n",
       "    </tr>\n",
       "    <tr>\n",
       "      <th>24559</th>\n",
       "      <td>CHARANAL BAJO</td>\n",
       "      <td>200401</td>\n",
       "    </tr>\n",
       "    <tr>\n",
       "      <th>24560</th>\n",
       "      <td>CRUZ PAMPA-YAPATERA</td>\n",
       "      <td>200401</td>\n",
       "    </tr>\n",
       "    <tr>\n",
       "      <th>24561</th>\n",
       "      <td>YAPATERA</td>\n",
       "      <td>200401</td>\n",
       "    </tr>\n",
       "    <tr>\n",
       "      <th>24562</th>\n",
       "      <td>YAPATERA</td>\n",
       "      <td>200401</td>\n",
       "    </tr>\n",
       "    <tr>\n",
       "      <th>24563</th>\n",
       "      <td>YAPATERA</td>\n",
       "      <td>200401</td>\n",
       "    </tr>\n",
       "  </tbody>\n",
       "</table>\n",
       "<p>23918 rows × 2 columns</p>\n",
       "</div>"
      ],
      "text/plain": [
       "                 LOCALIDAD  UBIGEO\n",
       "1             CARRASQUILLO  200402\n",
       "2                 CASTILLA  200104\n",
       "3                  SULLANA  200601\n",
       "4      A.H. LA PRIMAVERA I  200104\n",
       "5               URB. PIURA  200101\n",
       "...                    ...     ...\n",
       "24559        CHARANAL BAJO  200401\n",
       "24560  CRUZ PAMPA-YAPATERA  200401\n",
       "24561             YAPATERA  200401\n",
       "24562             YAPATERA  200401\n",
       "24563             YAPATERA  200401\n",
       "\n",
       "[23918 rows x 2 columns]"
      ]
     },
     "execution_count": 18,
     "metadata": {},
     "output_type": "execute_result"
    }
   ],
   "source": [
    "data[~data[\"LOCALIDAD\"].isna()][[\"LOCALIDAD\",\"UBIGEO\"]]"
   ]
  },
  {
   "cell_type": "code",
   "execution_count": 19,
   "id": "9751579f-f0c1-45c5-beeb-eb9ff0b463db",
   "metadata": {},
   "outputs": [
    {
     "data": {
      "text/html": [
       "<div>\n",
       "<style scoped>\n",
       "    .dataframe tbody tr th:only-of-type {\n",
       "        vertical-align: middle;\n",
       "    }\n",
       "\n",
       "    .dataframe tbody tr th {\n",
       "        vertical-align: top;\n",
       "    }\n",
       "\n",
       "    .dataframe thead th {\n",
       "        text-align: right;\n",
       "    }\n",
       "</style>\n",
       "<table border=\"1\" class=\"dataframe\">\n",
       "  <thead>\n",
       "    <tr style=\"text-align: right;\">\n",
       "      <th></th>\n",
       "      <th>CENTRO_SALUD</th>\n",
       "      <th>LOCALIDAD</th>\n",
       "      <th>UBIGEO</th>\n",
       "    </tr>\n",
       "  </thead>\n",
       "  <tbody>\n",
       "    <tr>\n",
       "      <th>12755</th>\n",
       "      <td>HOSPITAL DE LA AMISTAD PERU - COREA SANTA ROSA...</td>\n",
       "      <td>NaN</td>\n",
       "      <td>200406</td>\n",
       "    </tr>\n",
       "    <tr>\n",
       "      <th>12756</th>\n",
       "      <td>HOSPITAL DE LA AMISTAD PERU - COREA SANTA ROSA...</td>\n",
       "      <td>NaN</td>\n",
       "      <td>200104</td>\n",
       "    </tr>\n",
       "    <tr>\n",
       "      <th>12757</th>\n",
       "      <td>HOSPITAL DE LA AMISTAD PERU - COREA SANTA ROSA...</td>\n",
       "      <td>NaN</td>\n",
       "      <td>200115</td>\n",
       "    </tr>\n",
       "    <tr>\n",
       "      <th>12771</th>\n",
       "      <td>HOSPITAL DE LA AMISTAD PERU - COREA SANTA ROSA...</td>\n",
       "      <td>NaN</td>\n",
       "      <td>200110</td>\n",
       "    </tr>\n",
       "    <tr>\n",
       "      <th>12772</th>\n",
       "      <td>HOSPITAL DE LA AMISTAD PERU - COREA SANTA ROSA...</td>\n",
       "      <td>NaN</td>\n",
       "      <td>200101</td>\n",
       "    </tr>\n",
       "    <tr>\n",
       "      <th>...</th>\n",
       "      <td>...</td>\n",
       "      <td>...</td>\n",
       "      <td>...</td>\n",
       "    </tr>\n",
       "    <tr>\n",
       "      <th>13107</th>\n",
       "      <td>HOSPITAL DE LA AMISTAD PERU - COREA SANTA ROSA...</td>\n",
       "      <td>NaN</td>\n",
       "      <td>200115</td>\n",
       "    </tr>\n",
       "    <tr>\n",
       "      <th>13108</th>\n",
       "      <td>HOSPITAL DE LA AMISTAD PERU - COREA SANTA ROSA...</td>\n",
       "      <td>NaN</td>\n",
       "      <td>200101</td>\n",
       "    </tr>\n",
       "    <tr>\n",
       "      <th>13122</th>\n",
       "      <td>HOSPITAL DE LA AMISTAD PERU - COREA SANTA ROSA...</td>\n",
       "      <td>NaN</td>\n",
       "      <td>200101</td>\n",
       "    </tr>\n",
       "    <tr>\n",
       "      <th>13136</th>\n",
       "      <td>HOSPITAL DE LA AMISTAD PERU - COREA SANTA ROSA...</td>\n",
       "      <td>NaN</td>\n",
       "      <td>200109</td>\n",
       "    </tr>\n",
       "    <tr>\n",
       "      <th>13138</th>\n",
       "      <td>HOSPITAL DE LA AMISTAD PERU - COREA SANTA ROSA...</td>\n",
       "      <td>NaN</td>\n",
       "      <td>200101</td>\n",
       "    </tr>\n",
       "  </tbody>\n",
       "</table>\n",
       "<p>197 rows × 3 columns</p>\n",
       "</div>"
      ],
      "text/plain": [
       "                                            CENTRO_SALUD LOCALIDAD  UBIGEO\n",
       "12755  HOSPITAL DE LA AMISTAD PERU - COREA SANTA ROSA...       NaN  200406\n",
       "12756  HOSPITAL DE LA AMISTAD PERU - COREA SANTA ROSA...       NaN  200104\n",
       "12757  HOSPITAL DE LA AMISTAD PERU - COREA SANTA ROSA...       NaN  200115\n",
       "12771  HOSPITAL DE LA AMISTAD PERU - COREA SANTA ROSA...       NaN  200110\n",
       "12772  HOSPITAL DE LA AMISTAD PERU - COREA SANTA ROSA...       NaN  200101\n",
       "...                                                  ...       ...     ...\n",
       "13107  HOSPITAL DE LA AMISTAD PERU - COREA SANTA ROSA...       NaN  200115\n",
       "13108  HOSPITAL DE LA AMISTAD PERU - COREA SANTA ROSA...       NaN  200101\n",
       "13122  HOSPITAL DE LA AMISTAD PERU - COREA SANTA ROSA...       NaN  200101\n",
       "13136  HOSPITAL DE LA AMISTAD PERU - COREA SANTA ROSA...       NaN  200109\n",
       "13138  HOSPITAL DE LA AMISTAD PERU - COREA SANTA ROSA...       NaN  200101\n",
       "\n",
       "[197 rows x 3 columns]"
      ]
     },
     "execution_count": 19,
     "metadata": {},
     "output_type": "execute_result"
    }
   ],
   "source": [
    "data[(data[\"LOCALIDAD\"].isna()) & (data[\"CENTRO_SALUD\"]==\"HOSPITAL DE LA AMISTAD PERU - COREA SANTA ROSA II-2\")][[\"CENTRO_SALUD\",\"LOCALIDAD\",\"UBIGEO\"]]"
   ]
  },
  {
   "cell_type": "code",
   "execution_count": 20,
   "id": "c70a28ba-9d1a-4a03-8257-82119c27d4bf",
   "metadata": {},
   "outputs": [
    {
     "data": {
      "text/html": [
       "<div>\n",
       "<style scoped>\n",
       "    .dataframe tbody tr th:only-of-type {\n",
       "        vertical-align: middle;\n",
       "    }\n",
       "\n",
       "    .dataframe tbody tr th {\n",
       "        vertical-align: top;\n",
       "    }\n",
       "\n",
       "    .dataframe thead th {\n",
       "        text-align: right;\n",
       "    }\n",
       "</style>\n",
       "<table border=\"1\" class=\"dataframe\">\n",
       "  <thead>\n",
       "    <tr style=\"text-align: right;\">\n",
       "      <th></th>\n",
       "      <th>CENTRO_SALUD</th>\n",
       "      <th>LOCALIDAD</th>\n",
       "      <th>UBIGEO</th>\n",
       "    </tr>\n",
       "  </thead>\n",
       "  <tbody>\n",
       "    <tr>\n",
       "      <th>12756</th>\n",
       "      <td>HOSPITAL DE LA AMISTAD PERU - COREA SANTA ROSA...</td>\n",
       "      <td>NaN</td>\n",
       "      <td>200104</td>\n",
       "    </tr>\n",
       "    <tr>\n",
       "      <th>12760</th>\n",
       "      <td>HOSPITAL DE LA AMISTAD PERU - COREA SANTA ROSA...</td>\n",
       "      <td>A.H. LA PRIMAVERA I</td>\n",
       "      <td>200104</td>\n",
       "    </tr>\n",
       "    <tr>\n",
       "      <th>12761</th>\n",
       "      <td>HOSPITAL DE LA AMISTAD PERU - COREA SANTA ROSA...</td>\n",
       "      <td>CASTILLA</td>\n",
       "      <td>200104</td>\n",
       "    </tr>\n",
       "    <tr>\n",
       "      <th>12764</th>\n",
       "      <td>HOSPITAL DE LA AMISTAD PERU - COREA SANTA ROSA...</td>\n",
       "      <td>A.H. VILLA CALIFORNIA</td>\n",
       "      <td>200104</td>\n",
       "    </tr>\n",
       "    <tr>\n",
       "      <th>12770</th>\n",
       "      <td>HOSPITAL DE LA AMISTAD PERU - COREA SANTA ROSA...</td>\n",
       "      <td>A.H. CAMPO POLO</td>\n",
       "      <td>200104</td>\n",
       "    </tr>\n",
       "    <tr>\n",
       "      <th>...</th>\n",
       "      <td>...</td>\n",
       "      <td>...</td>\n",
       "      <td>...</td>\n",
       "    </tr>\n",
       "    <tr>\n",
       "      <th>13117</th>\n",
       "      <td>HOSPITAL DE LA AMISTAD PERU - COREA SANTA ROSA...</td>\n",
       "      <td>A.H. SAN FRANCISCO DE ASI</td>\n",
       "      <td>200104</td>\n",
       "    </tr>\n",
       "    <tr>\n",
       "      <th>13123</th>\n",
       "      <td>HOSPITAL DE LA AMISTAD PERU - COREA SANTA ROSA...</td>\n",
       "      <td>URB. COSSIO DEL POMAR</td>\n",
       "      <td>200104</td>\n",
       "    </tr>\n",
       "    <tr>\n",
       "      <th>13126</th>\n",
       "      <td>HOSPITAL DE LA AMISTAD PERU - COREA SANTA ROSA...</td>\n",
       "      <td>CASTILLA</td>\n",
       "      <td>200104</td>\n",
       "    </tr>\n",
       "    <tr>\n",
       "      <th>13134</th>\n",
       "      <td>HOSPITAL DE LA AMISTAD PERU - COREA SANTA ROSA...</td>\n",
       "      <td>CASTILLA</td>\n",
       "      <td>200104</td>\n",
       "    </tr>\n",
       "    <tr>\n",
       "      <th>13137</th>\n",
       "      <td>HOSPITAL DE LA AMISTAD PERU - COREA SANTA ROSA...</td>\n",
       "      <td>A.H. SAN FRANCISCO DE ASI</td>\n",
       "      <td>200104</td>\n",
       "    </tr>\n",
       "  </tbody>\n",
       "</table>\n",
       "<p>80 rows × 3 columns</p>\n",
       "</div>"
      ],
      "text/plain": [
       "                                            CENTRO_SALUD  \\\n",
       "12756  HOSPITAL DE LA AMISTAD PERU - COREA SANTA ROSA...   \n",
       "12760  HOSPITAL DE LA AMISTAD PERU - COREA SANTA ROSA...   \n",
       "12761  HOSPITAL DE LA AMISTAD PERU - COREA SANTA ROSA...   \n",
       "12764  HOSPITAL DE LA AMISTAD PERU - COREA SANTA ROSA...   \n",
       "12770  HOSPITAL DE LA AMISTAD PERU - COREA SANTA ROSA...   \n",
       "...                                                  ...   \n",
       "13117  HOSPITAL DE LA AMISTAD PERU - COREA SANTA ROSA...   \n",
       "13123  HOSPITAL DE LA AMISTAD PERU - COREA SANTA ROSA...   \n",
       "13126  HOSPITAL DE LA AMISTAD PERU - COREA SANTA ROSA...   \n",
       "13134  HOSPITAL DE LA AMISTAD PERU - COREA SANTA ROSA...   \n",
       "13137  HOSPITAL DE LA AMISTAD PERU - COREA SANTA ROSA...   \n",
       "\n",
       "                       LOCALIDAD  UBIGEO  \n",
       "12756                        NaN  200104  \n",
       "12760        A.H. LA PRIMAVERA I  200104  \n",
       "12761                   CASTILLA  200104  \n",
       "12764      A.H. VILLA CALIFORNIA  200104  \n",
       "12770            A.H. CAMPO POLO  200104  \n",
       "...                          ...     ...  \n",
       "13117  A.H. SAN FRANCISCO DE ASI  200104  \n",
       "13123      URB. COSSIO DEL POMAR  200104  \n",
       "13126                   CASTILLA  200104  \n",
       "13134                   CASTILLA  200104  \n",
       "13137  A.H. SAN FRANCISCO DE ASI  200104  \n",
       "\n",
       "[80 rows x 3 columns]"
      ]
     },
     "execution_count": 20,
     "metadata": {},
     "output_type": "execute_result"
    }
   ],
   "source": [
    "data[(data[\"UBIGEO\"] == 200104) & (data[\"CENTRO_SALUD\"] == \"HOSPITAL DE LA AMISTAD PERU - COREA SANTA ROSA II-2\")][[\"CENTRO_SALUD\",\"LOCALIDAD\",\"UBIGEO\"]]"
   ]
  },
  {
   "cell_type": "code",
   "execution_count": 21,
   "id": "7922db08-c836-4f13-b35f-43fbeca7260f",
   "metadata": {},
   "outputs": [
    {
     "data": {
      "text/html": [
       "<div>\n",
       "<style scoped>\n",
       "    .dataframe tbody tr th:only-of-type {\n",
       "        vertical-align: middle;\n",
       "    }\n",
       "\n",
       "    .dataframe tbody tr th {\n",
       "        vertical-align: top;\n",
       "    }\n",
       "\n",
       "    .dataframe thead th {\n",
       "        text-align: right;\n",
       "    }\n",
       "</style>\n",
       "<table border=\"1\" class=\"dataframe\">\n",
       "  <thead>\n",
       "    <tr style=\"text-align: right;\">\n",
       "      <th></th>\n",
       "      <th>CENTRO_SALUD</th>\n",
       "      <th>LOCALIDAD</th>\n",
       "      <th>UBIGEO</th>\n",
       "    </tr>\n",
       "  </thead>\n",
       "  <tbody>\n",
       "    <tr>\n",
       "      <th>2</th>\n",
       "      <td>ALTO TRUJILLO</td>\n",
       "      <td>CASTILLA</td>\n",
       "      <td>200104</td>\n",
       "    </tr>\n",
       "    <tr>\n",
       "      <th>4</th>\n",
       "      <td>AUNA CLINICA MIRAFLORES</td>\n",
       "      <td>A.H. LA PRIMAVERA I</td>\n",
       "      <td>200104</td>\n",
       "    </tr>\n",
       "    <tr>\n",
       "      <th>7</th>\n",
       "      <td>AUNA CLINICA MIRAFLORES</td>\n",
       "      <td>A.H. ALMIRANTE M. GRAU I</td>\n",
       "      <td>200104</td>\n",
       "    </tr>\n",
       "    <tr>\n",
       "      <th>8</th>\n",
       "      <td>AUNA CLINICA MIRAFLORES</td>\n",
       "      <td>URB. MIRAFLORES</td>\n",
       "      <td>200104</td>\n",
       "    </tr>\n",
       "    <tr>\n",
       "      <th>10</th>\n",
       "      <td>AUNA CLINICA MIRAFLORES</td>\n",
       "      <td>URB. COSSIO DEL POMAR</td>\n",
       "      <td>200104</td>\n",
       "    </tr>\n",
       "    <tr>\n",
       "      <th>...</th>\n",
       "      <td>...</td>\n",
       "      <td>...</td>\n",
       "      <td>...</td>\n",
       "    </tr>\n",
       "    <tr>\n",
       "      <th>24305</th>\n",
       "      <td>SANTO DOMINGO</td>\n",
       "      <td>URB. SAN ANTONIO</td>\n",
       "      <td>200104</td>\n",
       "    </tr>\n",
       "    <tr>\n",
       "      <th>24306</th>\n",
       "      <td>SANTO DOMINGO</td>\n",
       "      <td>A.H. LA PRIMAVERA I</td>\n",
       "      <td>200104</td>\n",
       "    </tr>\n",
       "    <tr>\n",
       "      <th>24432</th>\n",
       "      <td>YAMANGO</td>\n",
       "      <td>A.H. TACALA</td>\n",
       "      <td>200104</td>\n",
       "    </tr>\n",
       "    <tr>\n",
       "      <th>24433</th>\n",
       "      <td>YAMANGO</td>\n",
       "      <td>A.H. NUEVO CASTILLA</td>\n",
       "      <td>200104</td>\n",
       "    </tr>\n",
       "    <tr>\n",
       "      <th>24434</th>\n",
       "      <td>YAMANGO</td>\n",
       "      <td>A.H. NUEVO CASTILLA</td>\n",
       "      <td>200104</td>\n",
       "    </tr>\n",
       "  </tbody>\n",
       "</table>\n",
       "<p>3182 rows × 3 columns</p>\n",
       "</div>"
      ],
      "text/plain": [
       "                  CENTRO_SALUD                 LOCALIDAD  UBIGEO\n",
       "2                ALTO TRUJILLO                  CASTILLA  200104\n",
       "4      AUNA CLINICA MIRAFLORES       A.H. LA PRIMAVERA I  200104\n",
       "7      AUNA CLINICA MIRAFLORES  A.H. ALMIRANTE M. GRAU I  200104\n",
       "8      AUNA CLINICA MIRAFLORES           URB. MIRAFLORES  200104\n",
       "10     AUNA CLINICA MIRAFLORES     URB. COSSIO DEL POMAR  200104\n",
       "...                        ...                       ...     ...\n",
       "24305            SANTO DOMINGO          URB. SAN ANTONIO  200104\n",
       "24306            SANTO DOMINGO       A.H. LA PRIMAVERA I  200104\n",
       "24432                  YAMANGO               A.H. TACALA  200104\n",
       "24433                  YAMANGO       A.H. NUEVO CASTILLA  200104\n",
       "24434                  YAMANGO       A.H. NUEVO CASTILLA  200104\n",
       "\n",
       "[3182 rows x 3 columns]"
      ]
     },
     "execution_count": 21,
     "metadata": {},
     "output_type": "execute_result"
    }
   ],
   "source": [
    "data[data[\"UBIGEO\"]==200104][[\"CENTRO_SALUD\",\"LOCALIDAD\",\"UBIGEO\"]]"
   ]
  },
  {
   "cell_type": "code",
   "execution_count": 22,
   "id": "08fb6b75-5d37-4565-86a7-b663742cb0ac",
   "metadata": {},
   "outputs": [],
   "source": [
    "#sdata = data[~data[\"LOCALIDAD\"].isna()][[\"CENTRO_SALUD\",\"LOCALIDAD\",\"UBIGEO\"]]\n",
    "#pd.Series({c: sdata[c].unique() for c in sdata})\n",
    "#pd.Series(list(map(set,data.values.T)),index=data.columns)"
   ]
  },
  {
   "cell_type": "code",
   "execution_count": 23,
   "id": "42f43c7a-9f28-4556-bf21-e3cb146878b0",
   "metadata": {},
   "outputs": [
    {
     "data": {
      "text/plain": [
       "2                        CASTILLA\n",
       "4             A.H. LA PRIMAVERA I\n",
       "7        A.H. ALMIRANTE M. GRAU I\n",
       "8                 URB. MIRAFLORES\n",
       "10          URB. COSSIO DEL POMAR\n",
       "                   ...           \n",
       "24305            URB. SAN ANTONIO\n",
       "24306         A.H. LA PRIMAVERA I\n",
       "24432                 A.H. TACALA\n",
       "24433         A.H. NUEVO CASTILLA\n",
       "24434         A.H. NUEVO CASTILLA\n",
       "Name: LOCALIDAD, Length: 3132, dtype: object"
      ]
     },
     "execution_count": 23,
     "metadata": {},
     "output_type": "execute_result"
    }
   ],
   "source": [
    "a = data[data[\"UBIGEO\"]==200104][\"LOCALIDAD\"].dropna()\n",
    "a"
   ]
  },
  {
   "cell_type": "code",
   "execution_count": 24,
   "id": "31dde96a-1230-41c4-b1b5-5e5b92a7ddd9",
   "metadata": {},
   "outputs": [
    {
     "data": {
      "text/plain": [
       "'A.H. INDEPENDENCIA'"
      ]
     },
     "execution_count": 24,
     "metadata": {},
     "output_type": "execute_result"
    }
   ],
   "source": [
    "a.iloc[np.random.randint(0,a.size)]"
   ]
  },
  {
   "cell_type": "code",
   "execution_count": 25,
   "id": "e3d15d6b-9b1e-40e1-b457-7de2208f7f95",
   "metadata": {},
   "outputs": [],
   "source": [
    "#def getLocalidad(ubigeo):\n",
    "#    ubigeo_array = data[data[\"UBIGEO\"]==ubigeo][\"LOCALIDAD\"].dropna()\n",
    "#    return ubigeo_array.iloc[np.random.randint(0,ubigeo_array.size)] if not ubigeo_array.size == 0 else  np.nan"
   ]
  },
  {
   "cell_type": "code",
   "execution_count": 26,
   "id": "ac6fefb9-c90e-4f64-ada9-0ab24988ffae",
   "metadata": {},
   "outputs": [],
   "source": [
    "def getLocalidad(ubigeo,hospital):\n",
    "    ubigeo_array = data[data[\"UBIGEO\"]==ubigeo][\"LOCALIDAD\"].dropna()\n",
    "    if ubigeo_array.size == 0:\n",
    "        ubigeo_array = data[data[\"CENTRO_SALUD\"]==hospital][\"LOCALIDAD\"].dropna()\n",
    "    return ubigeo_array.iloc[np.random.randint(0,ubigeo_array.size)]"
   ]
  },
  {
   "cell_type": "code",
   "execution_count": 27,
   "id": "790f645a-7ab0-44b8-96e0-8817ee70d3cf",
   "metadata": {},
   "outputs": [],
   "source": [
    "nanIndices = data[data[\"LOCALIDAD\"].isna()].index"
   ]
  },
  {
   "cell_type": "code",
   "execution_count": 28,
   "id": "da6def3d-7a90-4e5f-8542-f2fc80fc0e90",
   "metadata": {},
   "outputs": [],
   "source": [
    "#localidades = pd.DataFrame([getLocalidad(i) for i in data.loc[nanIndices][\"UBIGEO\"]])\n",
    "#localidades.isnull().sum()"
   ]
  },
  {
   "cell_type": "code",
   "execution_count": 29,
   "id": "65e7f38a-57ec-451f-8dfe-5d09d00c2a0b",
   "metadata": {},
   "outputs": [
    {
     "data": {
      "text/plain": [
       "0    0\n",
       "dtype: int64"
      ]
     },
     "execution_count": 29,
     "metadata": {},
     "output_type": "execute_result"
    }
   ],
   "source": [
    "localidades = pd.DataFrame([getLocalidad(i, j) for i, j in zip(data.loc[nanIndices][\"UBIGEO\"], data.loc[nanIndices][\"CENTRO_SALUD\"])])\n",
    "localidades.isnull().sum()"
   ]
  },
  {
   "cell_type": "code",
   "execution_count": 30,
   "id": "177c2ca9-0642-4b66-bd5b-a655264eafbe",
   "metadata": {},
   "outputs": [],
   "source": [
    "## Debido que solo hay 5 observaciones con localidad no identificada, pueden ser omotidas df.dropna()\n",
    "## O realizamos una funcion que impute por ubigeo y centro de salud, que cubra todo los casos indefinidos por solo usar ubigeo"
   ]
  },
  {
   "cell_type": "code",
   "execution_count": 31,
   "id": "3351d73c-eb32-4f5d-958a-d46f6f21cee6",
   "metadata": {},
   "outputs": [],
   "source": [
    "# Imputar datos de las IPRESS IREN CENTRO\n",
    "#ndata = data.copy()"
   ]
  },
  {
   "cell_type": "code",
   "execution_count": 32,
   "id": "c1777e7b-597d-42fe-ad70-3ed86e657c09",
   "metadata": {},
   "outputs": [],
   "source": [
    "data.iloc[nanIndices,7] = localidades"
   ]
  },
  {
   "cell_type": "code",
   "execution_count": 33,
   "id": "521ae878-6547-4f90-a183-b7357ffb53a8",
   "metadata": {},
   "outputs": [
    {
     "data": {
      "text/plain": [
       "FECHA_CORTE              0\n",
       "FECHA_INGRESO            0\n",
       "ANIO                     0\n",
       "DEPARTAMENTO             0\n",
       "PROVINCIA                0\n",
       "DISTRITO                 0\n",
       "UBIGEO                   0\n",
       "LOCALIDAD                0\n",
       "CENTRO_SALUD             0\n",
       "UUID                     0\n",
       "EDAD                     0\n",
       "TIPO_EDAD                0\n",
       "SEXO                     0\n",
       "FECHA_INICIO_SINTOMAS    0\n",
       "FECHA_NOTIFICACION       0\n",
       "SEMANA_NOTIFICACION      0\n",
       "dtype: int64"
      ]
     },
     "execution_count": 33,
     "metadata": {},
     "output_type": "execute_result"
    }
   ],
   "source": [
    "data.isnull().sum()"
   ]
  },
  {
   "cell_type": "code",
   "execution_count": 34,
   "id": "1b8abb39-f60c-449c-87af-a7010f4b34bf",
   "metadata": {},
   "outputs": [],
   "source": [
    "## Identificando Outliers\n",
    "from collections import Counter"
   ]
  },
  {
   "cell_type": "code",
   "execution_count": 35,
   "id": "c34750fc-a298-4b25-b866-cf76d001d91f",
   "metadata": {},
   "outputs": [],
   "source": [
    "#Tukey method\n",
    "def detect_outliers(df,n,features):\n",
    "\n",
    "    outlier_indices = []\n",
    "    \n",
    "    for col in features:\n",
    "        Q1 = np.percentile(df[col], 25)\n",
    "        Q3 = np.percentile(df[col], 75)\n",
    "        IQR = Q3 - Q1\n",
    "        outlier_step = 1.5 * IQR\n",
    "        outlier_list_col = df[(df[col] < Q1 - outlier_step) | (df[col] > Q3 + outlier_step )].index\n",
    "        outlier_indices.extend(outlier_list_col)\n",
    "        \n",
    "    outlier_indices = Counter(outlier_indices)        \n",
    "    multiple_outliers = list( k for k, v in outlier_indices.items() if v > n )\n",
    "    \n",
    "    return multiple_outliers "
   ]
  },
  {
   "cell_type": "code",
   "execution_count": 36,
   "id": "3d2c0dda-6c6c-41ad-a50d-3c25b8aa0a91",
   "metadata": {},
   "outputs": [
    {
     "data": {
      "text/html": [
       "<div>\n",
       "<style scoped>\n",
       "    .dataframe tbody tr th:only-of-type {\n",
       "        vertical-align: middle;\n",
       "    }\n",
       "\n",
       "    .dataframe tbody tr th {\n",
       "        vertical-align: top;\n",
       "    }\n",
       "\n",
       "    .dataframe thead th {\n",
       "        text-align: right;\n",
       "    }\n",
       "</style>\n",
       "<table border=\"1\" class=\"dataframe\">\n",
       "  <thead>\n",
       "    <tr style=\"text-align: right;\">\n",
       "      <th></th>\n",
       "      <th>EDAD</th>\n",
       "    </tr>\n",
       "  </thead>\n",
       "  <tbody>\n",
       "  </tbody>\n",
       "</table>\n",
       "</div>"
      ],
      "text/plain": [
       "Empty DataFrame\n",
       "Columns: [EDAD]\n",
       "Index: []"
      ]
     },
     "execution_count": 36,
     "metadata": {},
     "output_type": "execute_result"
    }
   ],
   "source": [
    "numfeat = [\"EDAD\"]\n",
    "outliers = detect_outliers(data,2,numfeat)\n",
    "data.loc[outliers,numfeat]"
   ]
  },
  {
   "cell_type": "code",
   "execution_count": 37,
   "id": "981807c9-b0af-4a90-889c-83e29ea411fd",
   "metadata": {},
   "outputs": [
    {
     "data": {
      "image/png": "[encoded data removed]",
      "text/plain": [
       "<Figure size 1000x800 with 12 Axes>"
      ]
     },
     "metadata": {},
     "output_type": "display_data"
    }
   ],
   "source": [
    "numfeat = data.select_dtypes(include=[np.number]).columns\n",
    "fig, ax = plt.subplots(4, 3, figsize=(10, 8))\n",
    "for i, col in enumerate(numfeat):\n",
    "    x = i // 3\n",
    "    y = i % 3\n",
    "    hp=sns.boxplot(data=data, x=col, ax=ax[x, y]) \n",
    "    hp.set(ylabel=None)\n",
    "plt.tight_layout()\n",
    "plt.show()"
   ]
  },
  {
   "cell_type": "code",
   "execution_count": 38,
   "id": "e9235937-8e18-49d0-8503-d5b0733831c2",
   "metadata": {},
   "outputs": [],
   "source": [
    "## Cleaning data"
   ]
  },
  {
   "cell_type": "code",
   "execution_count": 39,
   "id": "c559512e-5d51-4bef-9c67-a653fcdfb9fe",
   "metadata": {},
   "outputs": [
    {
     "data": {
      "text/plain": [
       "DEPARTAMENTO\n",
       "AMAZONAS            2\n",
       "ANCASH              4\n",
       "CAJAMARCA           4\n",
       "ICA                 1\n",
       "LA LIBERTAD         3\n",
       "LAMBAYEQUE         45\n",
       "LIMA                7\n",
       "LORETO              5\n",
       "PIURA           24466\n",
       "SAN MARTIN          4\n",
       "TUMBES             23\n",
       "UCAYALI             2\n",
       "Name: count, dtype: int64"
      ]
     },
     "execution_count": 39,
     "metadata": {},
     "output_type": "execute_result"
    }
   ],
   "source": [
    "data[[\"DEPARTAMENTO\"]].value_counts().sort_index()"
   ]
  },
  {
   "cell_type": "code",
   "execution_count": 40,
   "id": "0670a877-070c-4916-a545-e483cf4dccbf",
   "metadata": {},
   "outputs": [
    {
     "data": {
      "text/plain": [
       "PROVINCIA           \n",
       "ALTO AMAZONAS               1\n",
       "ATALAYA                     1\n",
       "AYABACA                   183\n",
       "CHICLAYO                   32\n",
       "CONDORCANQUI                1\n",
       "CONTRALMIRANTE VILLA        4\n",
       "CORONEL PORTILLO            1\n",
       "DATEM DEL MARA?ON           2\n",
       "FERRE?AFE                   2\n",
       "HUANCABAMBA                54\n",
       "ICA                         1\n",
       "JAEN                        3\n",
       "LAMBAYEQUE                 11\n",
       "LIMA                        7\n",
       "MARISCAL CACERES            1\n",
       "MAYNAS                      2\n",
       "MORROPON                 4824\n",
       "MOYOBAMBA                   1\n",
       "PAITA                    2116\n",
       "PIURA                   11642\n",
       "RIOJA                       1\n",
       "SAN IGNACIO                 1\n",
       "SAN MARTIN                  1\n",
       "SANTA                       3\n",
       "SECHURA                   405\n",
       "SULLANA                  5004\n",
       "TALARA                    238\n",
       "TRUJILLO                    3\n",
       "TUMBES                     15\n",
       "UTCUBAMBA                   1\n",
       "YUNGAY                      1\n",
       "ZARUMILLA                   4\n",
       "Name: count, dtype: int64"
      ]
     },
     "execution_count": 40,
     "metadata": {},
     "output_type": "execute_result"
    }
   ],
   "source": [
    "data[[\"PROVINCIA\"]].value_counts().sort_index()"
   ]
  },
  {
   "cell_type": "code",
   "execution_count": 41,
   "id": "34d2b46d-3493-4534-b1a0-d5881ad4c577",
   "metadata": {},
   "outputs": [
    {
     "data": {
      "text/plain": [
       "DISTRITO     \n",
       "26 DE OCTUBRE    1343\n",
       "AMOTAPE            24\n",
       "ARENAL              4\n",
       "AYABACA             1\n",
       "BAGUA GRANDE        1\n",
       "                 ... \n",
       "VICHAYAL           11\n",
       "YAMANGO             4\n",
       "YURIMAGUAS          1\n",
       "ZARUMILLA           3\n",
       "ZORRITOS            3\n",
       "Name: count, Length: 98, dtype: int64"
      ]
     },
     "execution_count": 41,
     "metadata": {},
     "output_type": "execute_result"
    }
   ],
   "source": [
    "data[[\"DISTRITO\"]].value_counts().sort_index()"
   ]
  },
  {
   "cell_type": "code",
   "execution_count": 42,
   "id": "3d7ef710-0b6c-4597-98a4-e0dfda25feef",
   "metadata": {},
   "outputs": [
    {
     "data": {
      "text/plain": [
       "LOCALIDAD             \n",
       "09 DE OCTUBRE             208\n",
       "15 DE MARZO                46\n",
       "31 DE OCTUBRE              12\n",
       "9 DE DICIEMBRE              1\n",
       "A.H. 09 DE COTUBRE         50\n",
       "                         ... \n",
       "ZONA INDUSTRIAL            21\n",
       "ZONA LITIGIO                1\n",
       "ZONA MORE (LOS MORES)       1\n",
       "ZONA VENTURA (VENTURA)     21\n",
       "ZORRITOS                    1\n",
       "Name: count, Length: 872, dtype: int64"
      ]
     },
     "execution_count": 42,
     "metadata": {},
     "output_type": "execute_result"
    }
   ],
   "source": [
    "data[[\"LOCALIDAD\"]].value_counts().sort_index()"
   ]
  },
  {
   "cell_type": "code",
   "execution_count": 43,
   "id": "e137a42e-1155-467f-8570-70c797344dee",
   "metadata": {},
   "outputs": [
    {
     "data": {
      "text/plain": [
       "CENTRO_SALUD                    \n",
       "ALBERTO LEOPOLDO BARTON THOMPSON      1\n",
       "ALBERTO SABOGAL SOLOGUREN             1\n",
       "ALTO TRUJILLO                         1\n",
       "AUNA CLINICA MIRAFLORES             186\n",
       "BATANES                             102\n",
       "                                   ... \n",
       "TERNIQUE                              4\n",
       "VENTANILLA                            1\n",
       "VILLA SR. DE LOS MILAGROS             1\n",
       "YAMANGO                               4\n",
       "YAPATERA                            129\n",
       "Name: count, Length: 299, dtype: int64"
      ]
     },
     "execution_count": 43,
     "metadata": {},
     "output_type": "execute_result"
    }
   ],
   "source": [
    "data[[\"CENTRO_SALUD\"]].value_counts().sort_index()"
   ]
  },
  {
   "cell_type": "code",
   "execution_count": 44,
   "id": "5e674423-7525-4a14-84ce-94d04a3cd8bd",
   "metadata": {},
   "outputs": [],
   "source": [
    "#!conda install -c conda-forge spacy\n",
    "#!conda install -c conda-forge cupy\n",
    "#!python -m spacy download es_core_news_sm\n",
    "#!pip install nltk\n",
    "#!pip install Unidecode"
   ]
  },
  {
   "cell_type": "code",
   "execution_count": 45,
   "id": "7d82fb58-6198-4b1d-8d83-64fa831dc2a0",
   "metadata": {},
   "outputs": [
    {
     "name": "stderr",
     "output_type": "stream",
     "text": [
      "[nltk_data] Downloading package stopwords to /home/ueki/nltk_data...\n",
      "[nltk_data]   Package stopwords is already up-to-date!\n"
     ]
    }
   ],
   "source": [
    "import spacy\n",
    "from unidecode import unidecode\n",
    "import nltk\n",
    "from nltk.corpus import stopwords\n",
    "\n",
    "nltk.download('stopwords')\n",
    "spanish_stopwords = [x.upper() for x in stopwords.words('spanish')]\n",
    "nlp = spacy.load(\"es_core_news_sm\")\n",
    "\n",
    "def preprocess(texto):\n",
    "    if isinstance(texto, str):\n",
    "        texto = unidecode(texto)\n",
    "        doc = nlp(texto, disable=['ner', 'parser'])\n",
    "        lemmas = [token.lemma_ for token in doc]\n",
    "        a_lemmas = [lemma.upper() for lemma in lemmas if lemma.isalpha() and lemma not in spanish_stopwords]\n",
    "        return ' '.join(a_lemmas)\n",
    "    else:\n",
    "        return texto"
   ]
  },
  {
   "cell_type": "code",
   "execution_count": 46,
   "id": "f7fef4a4-d049-4f5d-aeab-f43c136dd8a1",
   "metadata": {},
   "outputs": [
    {
     "data": {
      "text/plain": [
       "CENTRO_SALUD\n",
       "HOSPITAL III JOSE CAYETANO HEREDIA      2836\n",
       "HOSP CHULUCANAS                         2150\n",
       "HOSPITAL II JORGE REATEGUI DELGADO      1073\n",
       "HOSPITAL ESSALUD SULLANA                 944\n",
       "POSTA MEDICO CHULUCANA                   700\n",
       "                                        ... \n",
       "HOSP EMERGENCIAS ESSALUD                   1\n",
       "HOSP MARIO AUXILIADORA                     1\n",
       "HOSP MARINO MOLINA                         1\n",
       "HOSP MILITAR CENTRAL                       1\n",
       "POLICLINICO JUAN JOSE RODRIGUEZ LAZO       1\n",
       "Name: count, Length: 294, dtype: int64"
      ]
     },
     "execution_count": 46,
     "metadata": {},
     "output_type": "execute_result"
    }
   ],
   "source": [
    "data[\"CENTRO_SALUD\"] = data[\"CENTRO_SALUD\"].apply(preprocess)\n",
    "data[\"CENTRO_SALUD\"].value_counts()"
   ]
  },
  {
   "cell_type": "code",
   "execution_count": 47,
   "id": "5bc51c5f-d735-410a-a477-7ef1f761c3f9",
   "metadata": {},
   "outputs": [],
   "source": [
    "data[\"PROVINCIA\"] = data[\"PROVINCIA\"].str.replace(\"?\", \"Ñ\")"
   ]
  },
  {
   "cell_type": "code",
   "execution_count": 48,
   "id": "d73934fa-7e4a-4e48-abd7-7ac93bf5f73a",
   "metadata": {},
   "outputs": [
    {
     "name": "stdout",
     "output_type": "stream",
     "text": [
      "(24566, 16)\n"
     ]
    }
   ],
   "source": [
    "# Removing duplicates\n",
    "data = data.drop_duplicates(keep=\"first\") #last-first\n",
    "print(data.shape)"
   ]
  },
  {
   "cell_type": "code",
   "execution_count": 49,
   "id": "84fbfc03-6f59-4db8-b189-14d34fef4dd0",
   "metadata": {},
   "outputs": [
    {
     "name": "stdout",
     "output_type": "stream",
     "text": [
      "<class 'pandas.core.frame.DataFrame'>\n",
      "RangeIndex: 24566 entries, 0 to 24565\n",
      "Data columns (total 16 columns):\n",
      " #   Column                 Non-Null Count  Dtype \n",
      "---  ------                 --------------  ----- \n",
      " 0   FECHA_CORTE            24566 non-null  int64 \n",
      " 1   FECHA_INGRESO          24566 non-null  int64 \n",
      " 2   ANIO                   24566 non-null  int64 \n",
      " 3   DEPARTAMENTO           24566 non-null  object\n",
      " 4   PROVINCIA              24566 non-null  object\n",
      " 5   DISTRITO               24566 non-null  object\n",
      " 6   UBIGEO                 24566 non-null  int64 \n",
      " 7   LOCALIDAD              24566 non-null  object\n",
      " 8   CENTRO_SALUD           24566 non-null  object\n",
      " 9   UUID                   24566 non-null  object\n",
      " 10  EDAD                   24566 non-null  int64 \n",
      " 11  TIPO_EDAD              24566 non-null  object\n",
      " 12  SEXO                   24566 non-null  object\n",
      " 13  FECHA_INICIO_SINTOMAS  24566 non-null  int64 \n",
      " 14  FECHA_NOTIFICACION     24566 non-null  int64 \n",
      " 15  SEMANA_NOTIFICACION    24566 non-null  int64 \n",
      "dtypes: int64(8), object(8)\n",
      "memory usage: 3.0+ MB\n"
     ]
    }
   ],
   "source": [
    "data.info()"
   ]
  },
  {
   "cell_type": "code",
   "execution_count": 50,
   "id": "d6954aaa-d39e-43f7-bd07-fbfaaa7fae6a",
   "metadata": {},
   "outputs": [],
   "source": [
    "## Feature egineering"
   ]
  },
  {
   "cell_type": "code",
   "execution_count": 51,
   "id": "31f9c7a3-00d7-4207-89d9-8299d4ce7406",
   "metadata": {},
   "outputs": [
    {
     "name": "stdout",
     "output_type": "stream",
     "text": [
      "<class 'pandas.core.frame.DataFrame'>\n",
      "RangeIndex: 24566 entries, 0 to 24565\n",
      "Data columns (total 17 columns):\n",
      " #   Column                 Non-Null Count  Dtype         \n",
      "---  ------                 --------------  -----         \n",
      " 0   FECHA_CORTE            24566 non-null  int64         \n",
      " 1   FECHA_INGRESO          24566 non-null  int64         \n",
      " 2   ANIO                   24566 non-null  int64         \n",
      " 3   DEPARTAMENTO           24566 non-null  object        \n",
      " 4   PROVINCIA              24566 non-null  object        \n",
      " 5   DISTRITO               24566 non-null  object        \n",
      " 6   UBIGEO                 24566 non-null  int64         \n",
      " 7   LOCALIDAD              24566 non-null  object        \n",
      " 8   CENTRO_SALUD           24566 non-null  object        \n",
      " 9   UUID                   24566 non-null  object        \n",
      " 10  EDAD                   24566 non-null  int64         \n",
      " 11  TIPO_EDAD              24566 non-null  object        \n",
      " 12  SEXO                   24566 non-null  object        \n",
      " 13  FECHA_INICIO_SINTOMAS  24566 non-null  datetime64[ns]\n",
      " 14  FECHA_NOTIFICACION     24566 non-null  datetime64[ns]\n",
      " 15  SEMANA_NOTIFICACION    24566 non-null  int64         \n",
      " 16  DURACION_AVISO         24566 non-null  int64         \n",
      "dtypes: datetime64[ns](2), int64(7), object(8)\n",
      "memory usage: 3.2+ MB\n"
     ]
    }
   ],
   "source": [
    "ndata = data.copy()\n",
    "# Creando nuevos feature a partir de fechas\n",
    "ndata[\"FECHA_INICIO_SINTOMAS\"] = pd.to_datetime(ndata[\"FECHA_INICIO_SINTOMAS\"], format='%Y%m%d')\n",
    "ndata['FECHA_NOTIFICACION'] = pd.to_datetime(ndata['FECHA_NOTIFICACION'], format='%Y%m%d', errors='coerce')\n",
    "ndata[\"DURACION_AVISO\"] = ndata['FECHA_NOTIFICACION'] - ndata['FECHA_INICIO_SINTOMAS']\n",
    "ndata[\"DURACION_AVISO\"] = ndata[\"DURACION_AVISO\"].dt.days\n",
    "ndata.info()"
   ]
  },
  {
   "cell_type": "code",
   "execution_count": 52,
   "id": "3df3d010-2fb5-4096-ad06-e25262582c16",
   "metadata": {},
   "outputs": [
    {
     "data": {
      "text/plain": [
       "(1, 98)"
      ]
     },
     "execution_count": 52,
     "metadata": {},
     "output_type": "execute_result"
    }
   ],
   "source": [
    "ndata[\"EDAD\"].min(), ndata[\"EDAD\"].max()"
   ]
  },
  {
   "cell_type": "code",
   "execution_count": 53,
   "id": "3aa41190-92de-4dad-a95d-ec6e9056d5d3",
   "metadata": {},
   "outputs": [],
   "source": [
    "#edad_grupos = np.arange(0,104,4)\n",
    "#intervalos = [(edad_grupos[i], edad_grupos[i+1]) for i in range(len(edad_grupos)-1)]\n",
    "#bins = pd.IntervalIndex.from_tuples(intervalos)\n",
    "\n",
    "edges = range(0, 104, 4)  # Start from 0, end at 100, with step size of 25\n",
    "# Create IntervalIndex\n",
    "bins = pd.IntervalIndex.from_arrays(edges[:-1], edges[1:], closed='right')\n",
    "\n",
    "ndata[\"EDAD_RANGO\"]=pd.cut(ndata[\"EDAD\"],bins)"
   ]
  },
  {
   "cell_type": "code",
   "execution_count": 54,
   "id": "9dde3893-9786-4470-9e3c-c1cfe493fe8a",
   "metadata": {},
   "outputs": [
    {
     "data": {
      "text/plain": [
       "0        (48, 52]\n",
       "1        (36, 40]\n",
       "2        (32, 36]\n",
       "3        (40, 44]\n",
       "4          (4, 8]\n",
       "           ...   \n",
       "24561    (24, 28]\n",
       "24562    (44, 48]\n",
       "24563    (12, 16]\n",
       "24564    (16, 20]\n",
       "24565    (52, 56]\n",
       "Name: EDAD_RANGO, Length: 24566, dtype: category\n",
       "Categories (25, interval[int64, right]): [(0, 4] < (4, 8] < (8, 12] < (12, 16] ... (84, 88] < (88, 92] < (92, 96] < (96, 100]]"
      ]
     },
     "execution_count": 54,
     "metadata": {},
     "output_type": "execute_result"
    }
   ],
   "source": [
    "#ndata[\"EDAD_RANGO\"] = ndata[\"EDAD_RANGO\"].astype('category')\n",
    "ndata[\"EDAD_RANGO\"]"
   ]
  },
  {
   "cell_type": "code",
   "execution_count": 133,
   "id": "abb1a22d-22af-4c2a-849c-8c4c71874bd8",
   "metadata": {},
   "outputs": [],
   "source": [
    "def create_age_distribution(data):\n",
    "    df_f = data.loc[::-1]\n",
    "    df_m = data.loc[::-1]\n",
    "    \n",
    "    ax = sns.barplot(y=df_m[\"EDAD_RANGO\"], x=df_m[\"MASCULINO\"]*-1, color='skyblue', orient=\"h\", label='Masculino')\n",
    "    ax = sns.barplot(y=df_f[\"EDAD_RANGO\"], x=df_f[\"FEMENINO\"], color='salmon', orient=\"h\", label='Femenino')\n",
    "\n",
    "    ax.xaxis.set_major_formatter(FuncFormatter(lambda x, _: '{:.0f}'.format(abs(x))))\n",
    "    \n",
    "    ax.set(xlabel='Cantidad', ylabel='Rango de Edad')\n",
    "    ax.legend(title='Género')\n",
    "\n",
    "    return ax"
   ]
  },
  {
   "cell_type": "code",
   "execution_count": 56,
   "id": "87826d8d-efd8-43ff-a007-3963d89e5d4f",
   "metadata": {},
   "outputs": [],
   "source": [
    "# def set_seaborn_style(font_family, background_color, grid_color, text_color):\n",
    "#     sns.set_style({\n",
    "#         \"axes.facecolor\": background_color,\n",
    "#         \"figure.facecolor\": background_color,\n",
    "\n",
    "#         \"axes.labelcolor\": text_color,\n",
    "\n",
    "#         \"axes.edgecolor\": grid_color,\n",
    "#         \"axes.grid\": True,\n",
    "#         \"axes.axisbelow\": True,\n",
    "\n",
    "#         \"grid.color\": grid_color,\n",
    "\n",
    "#         \"font.family\": font_family,\n",
    "#         \"text.color\": text_color,\n",
    "#         \"xtick.color\": text_color,\n",
    "#         \"ytick.color\": text_color,\n",
    "\n",
    "#         \"xtick.bottom\": False,\n",
    "#         \"xtick.top\": False,\n",
    "#         \"ytick.left\": False,\n",
    "#         \"ytick.right\": False,\n",
    "\n",
    "#         \"axes.spines.left\": False,\n",
    "#         \"axes.spines.bottom\": True,\n",
    "#         \"axes.spines.right\": False,\n",
    "#         \"axes.spines.top\": False,\n",
    "#     }\n",
    "# )\n",
    "\n",
    "# FEMALE_COLOR = \"#F64740\"\n",
    "# MALE_COLOR = \"#05B2DC\"\n",
    "\n",
    "# set_seaborn_style(\n",
    "#     font_family=\"sans-serif\",\n",
    "#     background_color=\"#253D5B\",\n",
    "#     grid_color=\"#355882\",\n",
    "#     text_color=\"#EEEEEE\"\n",
    "# )"
   ]
  },
  {
   "cell_type": "code",
   "execution_count": 139,
   "id": "430340fe-a8fa-4f4c-b060-a617e63978e1",
   "metadata": {},
   "outputs": [
    {
     "data": {
      "image/png": "[encoded data removed]",
      "text/plain": [
       "<Figure size 640x480 with 1 Axes>"
      ]
     },
     "metadata": {},
     "output_type": "display_data"
    }
   ],
   "source": [
    "edadRango = pd.DataFrame(ndata['EDAD_RANGO'].value_counts())\n",
    "edadRango = edadRango.reindex(bins)\n",
    "ax = edadRango.plot(kind='bar', rot=90, color=\"c\", legend=False)  # Set legend=False to hide the legend\n",
    "ax.set_title(\"Pacientes distribuidos por edad\", y=1)\n",
    "ax.set_xlabel('Rango de edad')\n",
    "ax.set_ylabel('Número de personas')\n",
    "\n",
    "plt.savefig(\"paciente_edad.png\", dpi=300)\n",
    "plt.show()"
   ]
  },
  {
   "cell_type": "code",
   "execution_count": 68,
   "id": "37cba5b4-4283-478e-982e-2469da67914b",
   "metadata": {},
   "outputs": [
    {
     "data": {
      "image/png": "[encoded data removed]",
      "text/plain": [
       "<Figure size 640x480 with 1 Axes>"
      ]
     },
     "metadata": {},
     "output_type": "display_data"
    }
   ],
   "source": [
    "from matplotlib.colors import ListedColormap\n",
    "\n",
    "# Plot the histogram\n",
    "hist = sns.histplot(data=ndata, x='Género', hue='EDAD_RANGO', stat=\"count\", multiple=\"stack\", shrink=0.8)\n",
    "\n",
    "# Extract unique EDAD_RANGO categories and their respective colors\n",
    "unique_categories = ndata['EDAD_RANGO'].unique()\n",
    "\n",
    "# Sort the unique categories based on their interval boundaries\n",
    "unique_categories = sorted(unique_categories, key=lambda x: x.right)\n",
    "\n",
    "num_categories = len(unique_categories)\n",
    "color_map = sns.color_palette('pastel', n_colors=num_categories)\n",
    "cmap = ListedColormap(color_map)\n",
    "\n",
    "# Create a dictionary mapping each category to its corresponding color\n",
    "category_color_map = dict(zip(unique_categories, color_map))\n",
    "\n",
    "# Add colorbar\n",
    "\n",
    "# cbar = plt.colorbar(plt.cm.ScalarMappable(cmap=cmap), ax=hist)\n",
    "# cbar.set_ticks(range(num_categories))\n",
    "# cbar.set_ticklabels(unique_categories)\n",
    "# cbar.set_label('EDAD_RANGO')\n",
    "\n",
    "# Customize legend to show correct colormap distribution\n",
    "legend_handles = [plt.Line2D([0], [0], marker='o', color='w', label=str(category), \n",
    "                              markerfacecolor=category_color_map[category], markersize=10) \n",
    "                   for category in unique_categories]\n",
    "plt.legend(handles=legend_handles, title='Rango de edad', title_fontsize='13', fontsize='11', shadow=True, bbox_to_anchor=(1.05, 1), loc='upper left')\n",
    "\n",
    "# Set title and adjust plot aesthetics\n",
    "plt.title(\"Distribución de edades por Género\", fontsize=16, weight='bold')\n",
    "plt.xlabel('Género', fontsize=14)\n",
    "plt.ylabel('Número de personas', fontsize=14)\n",
    "plt.xticks(fontsize=12)\n",
    "plt.yticks(fontsize=12)\n",
    "\n",
    "plt.show()\n",
    "\n"
   ]
  },
  {
   "cell_type": "code",
   "execution_count": 113,
   "id": "758b5280-7cf5-4c98-a7e7-407235fa708d",
   "metadata": {},
   "outputs": [
    {
     "data": {
      "image/png": "[encoded data removed]",
      "text/plain": [
       "<Figure size 640x480 with 1 Axes>"
      ]
     },
     "metadata": {},
     "output_type": "display_data"
    }
   ],
   "source": [
    "# Set style and color palette\n",
    "sns.set_style(\"ticks\")  # Or \"whitegrid\" for an alternative clean style\n",
    "sns.set_palette(\"muted\")  # Or \"bright\" for more vibrant colors\n",
    "\n",
    "# Plot the countplot\n",
    "sns.countplot(data=ndata, x='EDAD_RANGO')\n",
    "\n",
    "# Rotate x-axis labels for better visibility\n",
    "plt.xticks(rotation=90)\n",
    "\n",
    "# Set title, xlabel, and ylabel with adjusted font sizes\n",
    "plt.title(\"Distribución de pacientes por edad\", fontsize=16, weight='bold', pad=20)\n",
    "plt.xlabel('Rango de edad', fontsize=14)\n",
    "plt.ylabel('Número de personas', fontsize=14)\n",
    "\n",
    "# Add grid lines\n",
    "plt.grid(axis='y', linestyle='--', alpha=0.7)\n",
    "\n",
    "# Show the plot\n",
    "plt.tight_layout()  # Adjust layout to prevent clipping of labels\n",
    "plt.show()\n"
   ]
  },
  {
   "cell_type": "code",
   "execution_count": 125,
   "id": "8e6ac532-c543-4f05-b265-2daff47f68d3",
   "metadata": {},
   "outputs": [
    {
     "data": {
      "image/png": "[encoded data removed]",
      "text/plain": [
       "<Figure size 640x480 with 1 Axes>"
      ]
     },
     "metadata": {},
     "output_type": "display_data"
    }
   ],
   "source": [
    "sns.countplot(data=ndata, x='EDAD_RANGO',hue=\"SEXO\",stat=\"percent\")\n",
    "plt.xticks(rotation=90)  # Rotate x-axis labels for better visibility\n",
    "ax.set_title(\"Pacientes distrubidos por Edad y Género\", y = 1)\n",
    "ax.set_xlabel('Rango de edad')\n",
    "ax.set_ylabel('Número de personas')\n",
    "plt.show()"
   ]
  },
  {
   "cell_type": "code",
   "execution_count": 74,
   "id": "bb19865a-5422-4543-8f68-43f112020d02",
   "metadata": {},
   "outputs": [
    {
     "data": {
      "text/plain": [
       "(0, 4]        611\n",
       "(4, 8]        970\n",
       "(8, 12]      1149\n",
       "(12, 16]     1123\n",
       "(16, 20]      766\n",
       "(20, 24]      667\n",
       "(24, 28]      735\n",
       "(28, 32]      713\n",
       "(32, 36]      633\n",
       "(36, 40]      577\n",
       "(40, 44]      552\n",
       "(44, 48]      457\n",
       "(48, 52]      400\n",
       "(52, 56]      413\n",
       "(56, 60]      355\n",
       "(60, 64]      274\n",
       "(64, 68]      255\n",
       "(68, 72]      181\n",
       "(72, 76]      129\n",
       "(76, 80]       95\n",
       "(80, 84]       53\n",
       "(84, 88]       34\n",
       "(88, 92]       30\n",
       "(92, 96]       13\n",
       "(96, 100]       1\n",
       "Name: count, dtype: int64"
      ]
     },
     "execution_count": 74,
     "metadata": {},
     "output_type": "execute_result"
    }
   ],
   "source": [
    "edadRango_masc = ndata[\"EDAD_RANGO\"][ndata[\"SEXO\"]==\"MASCULINO\"].value_counts().reindex(bins)\n",
    "edadRango_masc"
   ]
  },
  {
   "cell_type": "code",
   "execution_count": 75,
   "id": "5aa7bbd8-f537-4695-ac16-384648f5eefd",
   "metadata": {},
   "outputs": [
    {
     "data": {
      "text/plain": [
       "(0, 4]        563\n",
       "(4, 8]        928\n",
       "(8, 12]       972\n",
       "(12, 16]     1040\n",
       "(16, 20]      947\n",
       "(20, 24]      867\n",
       "(24, 28]     1008\n",
       "(28, 32]      986\n",
       "(32, 36]      927\n",
       "(36, 40]      859\n",
       "(40, 44]      726\n",
       "(44, 48]      675\n",
       "(48, 52]      656\n",
       "(52, 56]      540\n",
       "(56, 60]      454\n",
       "(60, 64]      383\n",
       "(64, 68]      306\n",
       "(68, 72]      169\n",
       "(72, 76]      124\n",
       "(76, 80]      106\n",
       "(80, 84]       66\n",
       "(84, 88]       40\n",
       "(88, 92]       24\n",
       "(92, 96]       10\n",
       "(96, 100]       4\n",
       "Name: count, dtype: int64"
      ]
     },
     "execution_count": 75,
     "metadata": {},
     "output_type": "execute_result"
    }
   ],
   "source": [
    "edadRango_feme = ndata[\"EDAD_RANGO\"][ndata[\"SEXO\"]==\"FEMENINO\"].value_counts().reindex(bins)\n",
    "edadRango_feme"
   ]
  },
  {
   "cell_type": "code",
   "execution_count": 76,
   "id": "79b9ff0a-221f-4152-8ce7-359925c2a266",
   "metadata": {},
   "outputs": [
    {
     "data": {
      "text/html": [
       "<div>\n",
       "<style scoped>\n",
       "    .dataframe tbody tr th:only-of-type {\n",
       "        vertical-align: middle;\n",
       "    }\n",
       "\n",
       "    .dataframe tbody tr th {\n",
       "        vertical-align: top;\n",
       "    }\n",
       "\n",
       "    .dataframe thead th {\n",
       "        text-align: right;\n",
       "    }\n",
       "</style>\n",
       "<table border=\"1\" class=\"dataframe\">\n",
       "  <thead>\n",
       "    <tr style=\"text-align: right;\">\n",
       "      <th></th>\n",
       "      <th>EDAD_RANGO</th>\n",
       "      <th>MASCULINO</th>\n",
       "      <th>FEMENINO</th>\n",
       "    </tr>\n",
       "  </thead>\n",
       "  <tbody>\n",
       "    <tr>\n",
       "      <th>(0, 4]</th>\n",
       "      <td>(0, 4]</td>\n",
       "      <td>611</td>\n",
       "      <td>563</td>\n",
       "    </tr>\n",
       "    <tr>\n",
       "      <th>(4, 8]</th>\n",
       "      <td>(4, 8]</td>\n",
       "      <td>970</td>\n",
       "      <td>928</td>\n",
       "    </tr>\n",
       "    <tr>\n",
       "      <th>(8, 12]</th>\n",
       "      <td>(8, 12]</td>\n",
       "      <td>1149</td>\n",
       "      <td>972</td>\n",
       "    </tr>\n",
       "    <tr>\n",
       "      <th>(12, 16]</th>\n",
       "      <td>(12, 16]</td>\n",
       "      <td>1123</td>\n",
       "      <td>1040</td>\n",
       "    </tr>\n",
       "    <tr>\n",
       "      <th>(16, 20]</th>\n",
       "      <td>(16, 20]</td>\n",
       "      <td>766</td>\n",
       "      <td>947</td>\n",
       "    </tr>\n",
       "    <tr>\n",
       "      <th>(20, 24]</th>\n",
       "      <td>(20, 24]</td>\n",
       "      <td>667</td>\n",
       "      <td>867</td>\n",
       "    </tr>\n",
       "    <tr>\n",
       "      <th>(24, 28]</th>\n",
       "      <td>(24, 28]</td>\n",
       "      <td>735</td>\n",
       "      <td>1008</td>\n",
       "    </tr>\n",
       "    <tr>\n",
       "      <th>(28, 32]</th>\n",
       "      <td>(28, 32]</td>\n",
       "      <td>713</td>\n",
       "      <td>986</td>\n",
       "    </tr>\n",
       "    <tr>\n",
       "      <th>(32, 36]</th>\n",
       "      <td>(32, 36]</td>\n",
       "      <td>633</td>\n",
       "      <td>927</td>\n",
       "    </tr>\n",
       "    <tr>\n",
       "      <th>(36, 40]</th>\n",
       "      <td>(36, 40]</td>\n",
       "      <td>577</td>\n",
       "      <td>859</td>\n",
       "    </tr>\n",
       "    <tr>\n",
       "      <th>(40, 44]</th>\n",
       "      <td>(40, 44]</td>\n",
       "      <td>552</td>\n",
       "      <td>726</td>\n",
       "    </tr>\n",
       "    <tr>\n",
       "      <th>(44, 48]</th>\n",
       "      <td>(44, 48]</td>\n",
       "      <td>457</td>\n",
       "      <td>675</td>\n",
       "    </tr>\n",
       "    <tr>\n",
       "      <th>(48, 52]</th>\n",
       "      <td>(48, 52]</td>\n",
       "      <td>400</td>\n",
       "      <td>656</td>\n",
       "    </tr>\n",
       "    <tr>\n",
       "      <th>(52, 56]</th>\n",
       "      <td>(52, 56]</td>\n",
       "      <td>413</td>\n",
       "      <td>540</td>\n",
       "    </tr>\n",
       "    <tr>\n",
       "      <th>(56, 60]</th>\n",
       "      <td>(56, 60]</td>\n",
       "      <td>355</td>\n",
       "      <td>454</td>\n",
       "    </tr>\n",
       "    <tr>\n",
       "      <th>(60, 64]</th>\n",
       "      <td>(60, 64]</td>\n",
       "      <td>274</td>\n",
       "      <td>383</td>\n",
       "    </tr>\n",
       "    <tr>\n",
       "      <th>(64, 68]</th>\n",
       "      <td>(64, 68]</td>\n",
       "      <td>255</td>\n",
       "      <td>306</td>\n",
       "    </tr>\n",
       "    <tr>\n",
       "      <th>(68, 72]</th>\n",
       "      <td>(68, 72]</td>\n",
       "      <td>181</td>\n",
       "      <td>169</td>\n",
       "    </tr>\n",
       "    <tr>\n",
       "      <th>(72, 76]</th>\n",
       "      <td>(72, 76]</td>\n",
       "      <td>129</td>\n",
       "      <td>124</td>\n",
       "    </tr>\n",
       "    <tr>\n",
       "      <th>(76, 80]</th>\n",
       "      <td>(76, 80]</td>\n",
       "      <td>95</td>\n",
       "      <td>106</td>\n",
       "    </tr>\n",
       "    <tr>\n",
       "      <th>(80, 84]</th>\n",
       "      <td>(80, 84]</td>\n",
       "      <td>53</td>\n",
       "      <td>66</td>\n",
       "    </tr>\n",
       "    <tr>\n",
       "      <th>(84, 88]</th>\n",
       "      <td>(84, 88]</td>\n",
       "      <td>34</td>\n",
       "      <td>40</td>\n",
       "    </tr>\n",
       "    <tr>\n",
       "      <th>(88, 92]</th>\n",
       "      <td>(88, 92]</td>\n",
       "      <td>30</td>\n",
       "      <td>24</td>\n",
       "    </tr>\n",
       "    <tr>\n",
       "      <th>(92, 96]</th>\n",
       "      <td>(92, 96]</td>\n",
       "      <td>13</td>\n",
       "      <td>10</td>\n",
       "    </tr>\n",
       "    <tr>\n",
       "      <th>(96, 100]</th>\n",
       "      <td>(96, 100]</td>\n",
       "      <td>1</td>\n",
       "      <td>4</td>\n",
       "    </tr>\n",
       "  </tbody>\n",
       "</table>\n",
       "</div>"
      ],
      "text/plain": [
       "          EDAD_RANGO  MASCULINO  FEMENINO\n",
       "(0, 4]        (0, 4]        611       563\n",
       "(4, 8]        (4, 8]        970       928\n",
       "(8, 12]      (8, 12]       1149       972\n",
       "(12, 16]    (12, 16]       1123      1040\n",
       "(16, 20]    (16, 20]        766       947\n",
       "(20, 24]    (20, 24]        667       867\n",
       "(24, 28]    (24, 28]        735      1008\n",
       "(28, 32]    (28, 32]        713       986\n",
       "(32, 36]    (32, 36]        633       927\n",
       "(36, 40]    (36, 40]        577       859\n",
       "(40, 44]    (40, 44]        552       726\n",
       "(44, 48]    (44, 48]        457       675\n",
       "(48, 52]    (48, 52]        400       656\n",
       "(52, 56]    (52, 56]        413       540\n",
       "(56, 60]    (56, 60]        355       454\n",
       "(60, 64]    (60, 64]        274       383\n",
       "(64, 68]    (64, 68]        255       306\n",
       "(68, 72]    (68, 72]        181       169\n",
       "(72, 76]    (72, 76]        129       124\n",
       "(76, 80]    (76, 80]         95       106\n",
       "(80, 84]    (80, 84]         53        66\n",
       "(84, 88]    (84, 88]         34        40\n",
       "(88, 92]    (88, 92]         30        24\n",
       "(92, 96]    (92, 96]         13        10\n",
       "(96, 100]  (96, 100]          1         4"
      ]
     },
     "execution_count": 76,
     "metadata": {},
     "output_type": "execute_result"
    }
   ],
   "source": [
    "data1 = pd.DataFrame({\"EDAD_RANGO\" : bins,\n",
    "                      \"MASCULINO\" : edadRango_masc,\n",
    "                      \"FEMENINO\" : edadRango_feme})\n",
    "data1"
   ]
  },
  {
   "cell_type": "code",
   "execution_count": 140,
   "id": "5884c00f-2b5f-4dfc-b437-9906747ccc0e",
   "metadata": {},
   "outputs": [
    {
     "data": {
      "image/png": "[encoded data removed]",
      "text/plain": [
       "<Figure size 1000x700 with 1 Axes>"
      ]
     },
     "metadata": {},
     "output_type": "display_data"
    }
   ],
   "source": [
    "from matplotlib.ticker import FuncFormatter\n",
    "\n",
    "fig = plt.figure(figsize=(10, 7))\n",
    "ax = create_age_distribution(data1)\n",
    "ax.set_title(\"Pacientes distrubidos por Género\", y = 1)\n",
    "ax.set_xlabel('Cantidad de personas')\n",
    "ax.set_ylabel('Rango de edad')\n",
    "\n",
    "plt.savefig(\"paciente_genero.png\", dpi=300)\n",
    "plt.show()"
   ]
  },
  {
   "cell_type": "code",
   "execution_count": 78,
   "id": "7ee405f5-800f-426c-93a9-5fc79ddfdae9",
   "metadata": {},
   "outputs": [
    {
     "data": {
      "text/html": [
       "<div>\n",
       "<style scoped>\n",
       "    .dataframe tbody tr th:only-of-type {\n",
       "        vertical-align: middle;\n",
       "    }\n",
       "\n",
       "    .dataframe tbody tr th {\n",
       "        vertical-align: top;\n",
       "    }\n",
       "\n",
       "    .dataframe thead th {\n",
       "        text-align: right;\n",
       "    }\n",
       "</style>\n",
       "<table border=\"1\" class=\"dataframe\">\n",
       "  <thead>\n",
       "    <tr style=\"text-align: right;\">\n",
       "      <th></th>\n",
       "      <th>EDAD_RANGO</th>\n",
       "      <th>DURACION_AVISO</th>\n",
       "    </tr>\n",
       "  </thead>\n",
       "  <tbody>\n",
       "    <tr>\n",
       "      <th>0</th>\n",
       "      <td>(48, 52]</td>\n",
       "      <td>2</td>\n",
       "    </tr>\n",
       "    <tr>\n",
       "      <th>1</th>\n",
       "      <td>(36, 40]</td>\n",
       "      <td>2</td>\n",
       "    </tr>\n",
       "    <tr>\n",
       "      <th>2</th>\n",
       "      <td>(32, 36]</td>\n",
       "      <td>3</td>\n",
       "    </tr>\n",
       "    <tr>\n",
       "      <th>3</th>\n",
       "      <td>(40, 44]</td>\n",
       "      <td>0</td>\n",
       "    </tr>\n",
       "    <tr>\n",
       "      <th>4</th>\n",
       "      <td>(4, 8]</td>\n",
       "      <td>0</td>\n",
       "    </tr>\n",
       "    <tr>\n",
       "      <th>...</th>\n",
       "      <td>...</td>\n",
       "      <td>...</td>\n",
       "    </tr>\n",
       "    <tr>\n",
       "      <th>24561</th>\n",
       "      <td>(24, 28]</td>\n",
       "      <td>0</td>\n",
       "    </tr>\n",
       "    <tr>\n",
       "      <th>24562</th>\n",
       "      <td>(44, 48]</td>\n",
       "      <td>0</td>\n",
       "    </tr>\n",
       "    <tr>\n",
       "      <th>24563</th>\n",
       "      <td>(12, 16]</td>\n",
       "      <td>0</td>\n",
       "    </tr>\n",
       "    <tr>\n",
       "      <th>24564</th>\n",
       "      <td>(16, 20]</td>\n",
       "      <td>2</td>\n",
       "    </tr>\n",
       "    <tr>\n",
       "      <th>24565</th>\n",
       "      <td>(52, 56]</td>\n",
       "      <td>1</td>\n",
       "    </tr>\n",
       "  </tbody>\n",
       "</table>\n",
       "<p>24566 rows × 2 columns</p>\n",
       "</div>"
      ],
      "text/plain": [
       "      EDAD_RANGO  DURACION_AVISO\n",
       "0       (48, 52]               2\n",
       "1       (36, 40]               2\n",
       "2       (32, 36]               3\n",
       "3       (40, 44]               0\n",
       "4         (4, 8]               0\n",
       "...          ...             ...\n",
       "24561   (24, 28]               0\n",
       "24562   (44, 48]               0\n",
       "24563   (12, 16]               0\n",
       "24564   (16, 20]               2\n",
       "24565   (52, 56]               1\n",
       "\n",
       "[24566 rows x 2 columns]"
      ]
     },
     "execution_count": 78,
     "metadata": {},
     "output_type": "execute_result"
    }
   ],
   "source": [
    "aux = pd.DataFrame(ndata[[\"EDAD_RANGO\",\"DURACION_AVISO\"]])\n",
    "aux['EDAD_RANGO'] = pd.Categorical(aux['EDAD_RANGO'],categories=bins,ordered=True)\n",
    "#aux = aux.head(100)\n",
    "aux"
   ]
  },
  {
   "cell_type": "code",
   "execution_count": 79,
   "id": "78460458-a362-4cdd-ad93-bb60eba35034",
   "metadata": {},
   "outputs": [
    {
     "name": "stdout",
     "output_type": "stream",
     "text": [
      "      EDAD_RANGO  DURACION_AVISO GRUPO_ETARIO\n",
      "0       (48, 52]               2        Joven\n",
      "1       (36, 40]               2        Joven\n",
      "2       (32, 36]               3        Joven\n",
      "3       (40, 44]               0        Joven\n",
      "4         (4, 8]               0         Niño\n",
      "...          ...             ...          ...\n",
      "24561   (24, 28]               0  Adolescente\n",
      "24562   (44, 48]               0        Joven\n",
      "24563   (12, 16]               0         Niño\n",
      "24564   (16, 20]               2  Adolescente\n",
      "24565   (52, 56]               1        Joven\n",
      "\n",
      "[24566 rows x 3 columns]\n"
     ]
    }
   ],
   "source": [
    "bins2= [0,2,13,25,60,100]\n",
    "labels = ['Infante','Niño','Adolescente','Joven','Anciano']\n",
    "aux['GRUPO_ETARIO'] = pd.cut(data['EDAD'], bins=bins2, labels=labels)\n",
    "aux['GRUPO_ETARIO'] = pd.Categorical(aux['GRUPO_ETARIO'],categories=labels,ordered=True)\n",
    "print(aux)"
   ]
  },
  {
   "cell_type": "code",
   "execution_count": 80,
   "id": "16185d89-f01e-486d-bc84-9a3b5fdc0dec",
   "metadata": {},
   "outputs": [
    {
     "name": "stdout",
     "output_type": "stream",
     "text": [
      "<class 'pandas.core.frame.DataFrame'>\n",
      "RangeIndex: 24566 entries, 0 to 24565\n",
      "Data columns (total 3 columns):\n",
      " #   Column          Non-Null Count  Dtype   \n",
      "---  ------          --------------  -----   \n",
      " 0   EDAD_RANGO      24566 non-null  category\n",
      " 1   DURACION_AVISO  24566 non-null  int64   \n",
      " 2   GRUPO_ETARIO    24566 non-null  category\n",
      "dtypes: category(2), int64(1)\n",
      "memory usage: 241.7 KB\n"
     ]
    }
   ],
   "source": [
    "aux.info()"
   ]
  },
  {
   "cell_type": "code",
   "execution_count": 81,
   "id": "e92c52bf-2bb8-4c9b-a3f1-175d6a04aaf6",
   "metadata": {},
   "outputs": [
    {
     "data": {
      "text/plain": [
       "EDAD_RANGO  DURACION_AVISO\n",
       "(0, 4]      -54                 1\n",
       "            -18                 1\n",
       "            -3                  1\n",
       "             0                465\n",
       "             1                200\n",
       "                             ... \n",
       "(92, 96]     46                 1\n",
       "(96, 100]    0                  2\n",
       "             2                  1\n",
       "             3                  1\n",
       "             32                 1\n",
       "Name: count, Length: 1292, dtype: int64"
      ]
     },
     "execution_count": 81,
     "metadata": {},
     "output_type": "execute_result"
    }
   ],
   "source": [
    "aux[[\"EDAD_RANGO\",\"DURACION_AVISO\"]].value_counts().sort_index()"
   ]
  },
  {
   "cell_type": "code",
   "execution_count": 82,
   "id": "77df42e6-b7fd-4831-a3ba-1d54a7b58cc2",
   "metadata": {},
   "outputs": [
    {
     "data": {
      "text/plain": [
       "GRUPO_ETARIO\n",
       "Infante           458\n",
       "Niño             5230\n",
       "Adolescente      5361\n",
       "Joven           11220\n",
       "Anciano          2297\n",
       "Name: count, dtype: int64"
      ]
     },
     "execution_count": 82,
     "metadata": {},
     "output_type": "execute_result"
    }
   ],
   "source": [
    "aux[[\"GRUPO_ETARIO\"]].value_counts().sort_index()"
   ]
  },
  {
   "cell_type": "code",
   "execution_count": 180,
   "id": "766ddb2a-2b78-42fa-b2e7-98b5c2bb3d30",
   "metadata": {},
   "outputs": [
    {
     "data": {
      "image/png": "[encoded data removed]",
      "text/plain": [
       "<Figure size 1000x600 with 1 Axes>"
      ]
     },
     "metadata": {},
     "output_type": "display_data"
    }
   ],
   "source": [
    "# Calculate the percentages for each group\n",
    "total_counts = len(aux_sorted)  # Total number of data points\n",
    "group_counts = aux['GRUPO_ETARIO'].value_counts()  # Number of data points for each group\n",
    "percentages = group_counts / total_counts * 100  # Calculate percentages\n",
    "\n",
    "# Plot countplot\n",
    "plt.figure(figsize=(10, 6))  # Adjust figure size if needed\n",
    "ax = sns.countplot(data=aux, x='GRUPO_ETARIO', order=aux['GRUPO_ETARIO'].value_counts().index, palette='pastel', hue=\"GRUPO_ETARIO\", legend=False)\n",
    "\n",
    "# Annotate the bars with percentages\n",
    "for p in ax.patches:\n",
    "    height = p.get_height()\n",
    "    ax.annotate(f'{height / total_counts * 100:.2f}%',  # Calculate and format the percentage\n",
    "                (p.get_x() + p.get_width() / 2., height),  # Position the annotation at the center of the bar\n",
    "                ha='center', va='bottom')  # Horizontal and vertical alignment\n",
    "\n",
    "ax.set_title(\"Cantidad de casos notificados\", y=1.05)\n",
    "ax.set_xlabel('Grupo etario')\n",
    "ax.set_ylabel('Número de personas')\n",
    "\n",
    "plt.savefig(\"grupoEtario_notificationes.png\", dpi=300)\n",
    "plt.show()"
   ]
  },
  {
   "cell_type": "code",
   "execution_count": 117,
   "id": "da1d3bd0-ed1f-4827-8250-e7abfa11fe20",
   "metadata": {},
   "outputs": [
    {
     "name": "stderr",
     "output_type": "stream",
     "text": [
      "/tmp/ipykernel_976/514068618.py:8: FutureWarning: The default of observed=False is deprecated and will be changed to True in a future version of pandas. Pass observed=False to retain current behavior or observed=True to adopt the future default and silence this warning.\n",
      "  grouped = aux.groupby('EDAD_RANGO').size()\n"
     ]
    },
    {
     "data": {
      "image/png": "[encoded data removed]",
      "text/plain": [
       "<Figure size 640x480 with 1 Axes>"
      ]
     },
     "metadata": {},
     "output_type": "display_data"
    }
   ],
   "source": [
    "# Define the custom order for EDAD_RANGO\n",
    "custom_order = sorted(aux['EDAD_RANGO'].unique(), key=lambda x: x.right)\n",
    "\n",
    "# Convert EDAD_RANGO to an ordered categorical data type with custom order\n",
    "aux['EDAD_RANGO'] = pd.Categorical(aux['EDAD_RANGO'], categories=custom_order, ordered=True)\n",
    "\n",
    "# Group by 'EDAD_RANGO' and count occurrences\n",
    "grouped = aux.groupby('EDAD_RANGO').size()\n",
    "\n",
    "# Plot the result\n",
    "ax = grouped.plot(kind='bar', rot=90, color=\"c\")\n",
    "\n",
    "# Set title and labels\n",
    "ax.set_title(\"Cantidad de casos notificados\", y=1)\n",
    "ax.set_xlabel('Grupo etario')\n",
    "ax.set_ylabel('Número de personas')\n",
    "\n",
    "# Show plot\n",
    "plt.show()"
   ]
  },
  {
   "cell_type": "code",
   "execution_count": 86,
   "id": "5730ccc8-1cb8-4850-9ccf-ffc7216c4f11",
   "metadata": {},
   "outputs": [],
   "source": [
    "#grouped = aux.groupby(['EDAD_RANGO','DURACION_AVISO'])\n",
    "#result = grouped.count()\n",
    "#result\n",
    "## da error. No hay uno con rango (96,100) en 21 dias"
   ]
  },
  {
   "cell_type": "code",
   "execution_count": 148,
   "id": "5381afb2-4e8b-45be-802e-7445b4a8cc5a",
   "metadata": {},
   "outputs": [
    {
     "data": {
      "text/plain": [
       "DURACION_AVISO  GRUPO_ETARIO\n",
       "-75             Adolescente     1\n",
       "-64             Adolescente     1\n",
       "-62             Joven           1\n",
       "-60             Joven           1\n",
       "-54             Niño            1\n",
       "                               ..\n",
       " 119            Adolescente     2\n",
       "                Joven           9\n",
       " 123            Joven           1\n",
       " 126            Joven           1\n",
       " 128            Adolescente     1\n",
       "Name: count, Length: 435, dtype: int64"
      ]
     },
     "execution_count": 148,
     "metadata": {},
     "output_type": "execute_result"
    }
   ],
   "source": [
    "# Count occurrences of each group in 'GRUPO_ETARIO' and sort by index\n",
    "result = aux[[\"DURACION_AVISO\",\"GRUPO_ETARIO\"]].value_counts().sort_index()\n",
    "result"
   ]
  },
  {
   "cell_type": "code",
   "execution_count": 175,
   "id": "3d980126-1f2b-42ea-9099-c8242563143c",
   "metadata": {},
   "outputs": [
    {
     "name": "stderr",
     "output_type": "stream",
     "text": [
      "/tmp/ipykernel_976/2480342060.py:4: FutureWarning: The default of observed=False is deprecated and will be changed to True in a future version of pandas. Pass observed=False to retain current behavior or observed=True to adopt the future default and silence this warning.\n",
      "  result = aux.groupby('GRUPO_ETARIO')['DURACION_AVISO'].agg([('Notificacion tardía', lambda x: -np.max(x)), ('Notificación temprana', lambda x: -np.min(x))])\n"
     ]
    },
    {
     "data": {
      "image/png": "[encoded data removed]",
      "text/plain": [
       "<Figure size 1000x700 with 2 Axes>"
      ]
     },
     "metadata": {},
     "output_type": "display_data"
    }
   ],
   "source": [
    "# Assuming aux is a DataFrame with columns DURACION_AVISO and GRUPO_ETARIO\n",
    "\n",
    "# Aggregate data by GRUPO_ETARIO and calculate the maximum or average DURACION_AVISO\n",
    "result = aux.groupby('GRUPO_ETARIO')['DURACION_AVISO'].agg([('Notificacion tardía', lambda x: -np.max(x)), ('Notificación temprana', lambda x: -np.min(x))])\n",
    "\n",
    "#cmap = sns.cm.rocket_r  # Use 'rocket_r' colormap for inverted version of 'rocket'\n",
    "\n",
    "# Plot heatmap\n",
    "plt.figure(figsize=(10, 7))\n",
    "sns.heatmap(result, cmap='viridis', annot=True, fmt='.2f', linewidths=0.5, cbar_kws={'label': 'Tiempo (Días)'})\n",
    "plt.title('Tiempo de demora en buscar atención por por grupo etario')\n",
    "plt.xlabel('Estadistica (max)')\n",
    "plt.ylabel('Grupo etario')\n",
    "plt.tight_layout()\n",
    "\n",
    "plt.savefig(\"diasMaximos_notificaciones.png\", dpi=300)\n",
    "plt.show()\n"
   ]
  }
 ],
 "metadata": {
  "kernelspec": {
   "display_name": "Python 3 (ipykernel)",
   "language": "python",
   "name": "python3"
  },
  "language_info": {
   "codemirror_mode": {
    "name": "ipython",
    "version": 3
   },
   "file_extension": ".py",
   "mimetype": "text/x-python",
   "name": "python",
   "nbconvert_exporter": "python",
   "pygments_lexer": "ipython3",
   "version": "3.10.13"
  }
 },
 "nbformat": 4,
 "nbformat_minor": 5
}
